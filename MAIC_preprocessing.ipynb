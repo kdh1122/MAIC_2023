{
  "nbformat": 4,
  "nbformat_minor": 0,
  "metadata": {
    "colab": {
      "provenance": [],
      "collapsed_sections": [
        "X3eTNUtY1Rn2",
        "wXHHpcMi1W-F",
        "f5N0152y1oqe",
        "wYAMRK3p2AZd"
      ],
      "machine_shape": "hm",
      "gpuType": "T4"
    },
    "kernelspec": {
      "name": "python3",
      "display_name": "Python 3"
    },
    "language_info": {
      "name": "python"
    },
    "accelerator": "GPU"
  },
  "cells": [
    {
      "cell_type": "code",
      "execution_count": null,
      "metadata": {
        "colab": {
          "base_uri": "https://localhost:8080/"
        },
        "id": "vpchc0Wnm912",
        "outputId": "35d66432-109a-48c3-b46d-a295f6f6f8f7"
      },
      "outputs": [
        {
          "output_type": "stream",
          "name": "stdout",
          "text": [
            "Mounted at /content/gdrive\n"
          ]
        }
      ],
      "source": [
        "from google.colab import drive\n",
        "drive.mount('/content/gdrive')"
      ]
    },
    {
      "cell_type": "code",
      "source": [
        "import torch\n",
        "import torchvision\n",
        "import torch.nn\n",
        "\n",
        "device = 'cuda' if torch.cuda.is_available() else 'cpu'\n",
        "# 랜덤 시드 고정\n",
        "torch.manual_seed(777)\n",
        "# GPU 사용 가능일 경우 랜덤 시드 고정\n",
        "if device == 'cuda':\n",
        "    torch.cuda.manual_seed_all(777)"
      ],
      "metadata": {
        "id": "AaZ5UZd55r1v"
      },
      "execution_count": null,
      "outputs": []
    },
    {
      "cell_type": "markdown",
      "source": [
        "#CSV 파일 불러오기"
      ],
      "metadata": {
        "id": "dFQdHH5b0_5w"
      }
    },
    {
      "cell_type": "code",
      "source": [
        "import pandas as pd\n",
        "\n",
        "file_path1 = '/content/gdrive/MyDrive/MAIC2023_공모전/ECG_child_age_train.csv'\n",
        "file_path2 = '/content/gdrive/MyDrive/MAIC2023_공모전/ECG_adult_age_train.csv'\n",
        "file_path3 = '/content/gdrive/MyDrive/MAIC2023_공모전/submission.csv'\n",
        "\n",
        "# 파일 불러오기\n",
        "ECG_child_age_train = pd.read_csv(file_path1)\n",
        "ECG_adult_age_train = pd.read_csv(file_path2)\n",
        "submission = pd.read_csv(file_path3)\n",
        "\n",
        "# 데이터 확인\n",
        "print(ECG_child_age_train.head())\n",
        "print(ECG_adult_age_train.head())\n",
        "print(submission.head())"
      ],
      "metadata": {
        "colab": {
          "base_uri": "https://localhost:8080/"
        },
        "id": "rMkjTZdUoNWk",
        "outputId": "fc67078a-7cbd-4403-91b9-a9da73b85376"
      },
      "execution_count": null,
      "outputs": [
        {
          "output_type": "stream",
          "name": "stdout",
          "text": [
            "      FILENAME  GENDER       AGE\n",
            "0  ecg_child_0    MALE  1.500000\n",
            "1  ecg_child_1    MALE  4.833333\n",
            "2  ecg_child_2  FEMALE  5.583333\n",
            "3  ecg_child_3  FEMALE  5.083333\n",
            "4  ecg_child_4    MALE  0.166667\n",
            "      FILENAME GENDER  AGE\n",
            "0  ecg_adult_0   MALE   53\n",
            "1  ecg_adult_1   MALE   68\n",
            "2  ecg_adult_2   MALE   68\n",
            "3  ecg_adult_3   MALE   89\n",
            "4  ecg_adult_4   MALE   79\n",
            "         FILENAME  GENDER  AGE\n",
            "0  ecg_child_8781  FEMALE  NaN\n",
            "1  ecg_child_8782    MALE  NaN\n",
            "2  ecg_child_8783    MALE  NaN\n",
            "3  ecg_child_8784  FEMALE  NaN\n",
            "4  ecg_child_8785  FEMALE  NaN\n"
          ]
        }
      ]
    },
    {
      "cell_type": "code",
      "source": [
        "ECG_child_age_train.info()"
      ],
      "metadata": {
        "colab": {
          "base_uri": "https://localhost:8080/"
        },
        "id": "uaxXixQGXShr",
        "outputId": "b2d49de2-124e-4f7a-c209-ed76329cd73c"
      },
      "execution_count": null,
      "outputs": [
        {
          "output_type": "stream",
          "name": "stdout",
          "text": [
            "<class 'pandas.core.frame.DataFrame'>\n",
            "RangeIndex: 8781 entries, 0 to 8780\n",
            "Data columns (total 3 columns):\n",
            " #   Column    Non-Null Count  Dtype  \n",
            "---  ------    --------------  -----  \n",
            " 0   FILENAME  8781 non-null   object \n",
            " 1   GENDER    8781 non-null   object \n",
            " 2   AGE       8781 non-null   float64\n",
            "dtypes: float64(1), object(2)\n",
            "memory usage: 205.9+ KB\n"
          ]
        }
      ]
    },
    {
      "cell_type": "code",
      "source": [
        "#ECG_adult_age_train[ECG_adult_age_train['GENDER']=='unknown']"
      ],
      "metadata": {
        "id": "uTdRmMzn5Snc"
      },
      "execution_count": null,
      "outputs": []
    },
    {
      "cell_type": "markdown",
      "source": [
        "#ECG 데이터 zip파일 압축 해제 후 디렉토리에 저장"
      ],
      "metadata": {
        "id": "Txu4XOj21H2L"
      }
    },
    {
      "cell_type": "code",
      "source": [
        "'''\n",
        "import zipfile\n",
        "\n",
        "# 압축 파일 경로들 지정\n",
        "zip_files = ['/content/gdrive/MyDrive/MAIC2023_공모전/ECG_child_numpy_valid.zip',\n",
        "             '/content/gdrive/MyDrive/MAIC2023_공모전/ECG_child_numpy_train.zip',\n",
        "             '/content/gdrive/MyDrive/MAIC2023_공모전/ECG_adult_numpy_valid.zip',\n",
        "             '/content/gdrive/MyDrive/MAIC2023_공모전/ECG_adult_numpy_train.zip']\n",
        "\n",
        "# 원래 디렉토리 경로 지정\n",
        "destination_dir = '/content/gdrive/MyDrive/MAIC2023_공모전/'\n",
        "\n",
        "# 모든 압축 파일들을 원래 디렉토리에 압축 해제\n",
        "for zip_file in zip_files:\n",
        "    with zipfile.ZipFile(zip_file, 'r') as zip_ref:\n",
        "        zip_ref.extractall(destination_dir)\n",
        "\n",
        "    # 압축 파일 삭제 (필요한 경우)\n",
        "    import os\n",
        "    os.remove(zip_file)\n",
        "\n",
        "# 압축 해제 완료 메시지 출력\n",
        "print(\"모든 압축 파일을 원래 디렉토리에 압축 해제하였습니다.\")\n",
        "'''"
      ],
      "metadata": {
        "colab": {
          "base_uri": "https://localhost:8080/",
          "height": 90
        },
        "id": "qr5Y8m_Xszph",
        "outputId": "1cdebe7a-6394-44b3-b94d-b68b93658e8a"
      },
      "execution_count": null,
      "outputs": [
        {
          "output_type": "execute_result",
          "data": {
            "text/plain": [
              "'\\nimport zipfile\\n\\n# 압축 파일 경로들 지정\\nzip_files = [\\'/content/gdrive/MyDrive/MAIC2023_공모전/ECG_child_numpy_valid.zip\\',\\n             \\'/content/gdrive/MyDrive/MAIC2023_공모전/ECG_child_numpy_train.zip\\',\\n             \\'/content/gdrive/MyDrive/MAIC2023_공모전/ECG_adult_numpy_valid.zip\\',\\n             \\'/content/gdrive/MyDrive/MAIC2023_공모전/ECG_adult_numpy_train.zip\\']\\n\\n# 원래 디렉토리 경로 지정\\ndestination_dir = \\'/content/gdrive/MyDrive/MAIC2023_공모전/\\'\\n\\n# 모든 압축 파일들을 원래 디렉토리에 압축 해제\\nfor zip_file in zip_files:\\n    with zipfile.ZipFile(zip_file, \\'r\\') as zip_ref:\\n        zip_ref.extractall(destination_dir)\\n\\n    # 압축 파일 삭제 (필요한 경우)\\n    import os\\n    os.remove(zip_file)\\n\\n# 압축 해제 완료 메시지 출력\\nprint(\"모든 압축 파일을 원래 디렉토리에 압축 해제하였습니다.\")\\n'"
            ],
            "application/vnd.google.colaboratory.intrinsic+json": {
              "type": "string"
            }
          },
          "metadata": {},
          "execution_count": 5
        }
      ]
    },
    {
      "cell_type": "code",
      "source": [
        "import os\n",
        "import io\n",
        "import zipfile\n",
        "from zipfile import ZipFile\n",
        "from io import BytesIO\n",
        "from numpy.lib.type_check import common_type\n",
        "import numpy as np"
      ],
      "metadata": {
        "id": "YpiNaxYHLyri"
      },
      "execution_count": null,
      "outputs": []
    },
    {
      "cell_type": "code",
      "source": [
        "ct_filename = []  ##파일이름 리스트\n",
        "ct_data=[]        ##데이터 리스트\n",
        "with ZipFile('/content/gdrive/MyDrive/MAIC2023_공모전/ECG_child_numpy_train.zip', 'r') as zipObj:\n",
        "    listOfFileNames = zipObj.namelist()\n",
        "    for fileName in listOfFileNames:\n",
        "        if fileName.endswith('npy'):\n",
        "            zipRead = zipObj.read(fileName)\n",
        "            curr_df = np.load(BytesIO(zipRead))\n",
        "            ct_data.append(curr_df)\n",
        "            ct_filename.append(fileName)"
      ],
      "metadata": {
        "id": "_7q4wXqme2k9"
      },
      "execution_count": null,
      "outputs": []
    },
    {
      "cell_type": "code",
      "source": [
        "cv_filename = []  ##파일이름 리스트\n",
        "cv_data=[]        ##데이터 리스트\n",
        "with ZipFile('/content/gdrive/MyDrive/MAIC2023_공모전/ECG_child_numpy_valid.zip', 'r') as zipObj:\n",
        "    listOfFileNames = zipObj.namelist()\n",
        "    for fileName in listOfFileNames:\n",
        "        if fileName.endswith('npy'):\n",
        "            zipRead = zipObj.read(fileName)\n",
        "            curr_df = np.load(BytesIO(zipRead))\n",
        "            cv_data.append(curr_df)\n",
        "            cv_filename.append(fileName)"
      ],
      "metadata": {
        "id": "tt765v54Lsg8"
      },
      "execution_count": null,
      "outputs": []
    },
    {
      "cell_type": "code",
      "source": [
        "av_filename = []  ##파일이름 리스트\n",
        "av_data=[]        ##데이터 리스트\n",
        "with ZipFile('/content/gdrive/MyDrive/MAIC2023_공모전/ECG_adult_numpy_valid.zip', 'r') as zipObj:\n",
        "    listOfFileNames = zipObj.namelist()\n",
        "    for fileName in listOfFileNames:\n",
        "        if fileName.endswith('npy'):\n",
        "            zipRead = zipObj.read(fileName)\n",
        "            curr_df = np.load(BytesIO(zipRead))\n",
        "            av_data.append(curr_df)\n",
        "            av_filename.append(fileName)"
      ],
      "metadata": {
        "id": "9YAzzOBGMCA8"
      },
      "execution_count": null,
      "outputs": []
    },
    {
      "cell_type": "code",
      "source": [
        "\n",
        "at_filename = []  ##파일이름 리스트\n",
        "at_data=[]        ##데이터 리스트\n",
        "with ZipFile('/content/gdrive/MyDrive/MAIC2023_공모전/ECG_adult_numpy_train.zip', 'r') as zipObj:\n",
        "    listOfFileNames = zipObj.namelist()\n",
        "    for fileName in listOfFileNames:\n",
        "        if fileName.endswith('npy'):\n",
        "            zipRead = zipObj.read(fileName)\n",
        "            curr_df = np.load(BytesIO(zipRead))\n",
        "            at_data.append(curr_df)\n",
        "            at_filename.append(fileName)\n"
      ],
      "metadata": {
        "id": "KZ9HoEAktjzK"
      },
      "execution_count": null,
      "outputs": []
    },
    {
      "cell_type": "markdown",
      "source": [
        "#데이터 관찰"
      ],
      "metadata": {
        "id": "AXC7pLfBurOc"
      }
    },
    {
      "cell_type": "code",
      "source": [
        "#print(\"child train 데이터 : \" ,len(ct_data))\n",
        "#print(\"adult train 데이터 : \" ,len(at_data))"
      ],
      "metadata": {
        "id": "0EJLJisyfgdG"
      },
      "execution_count": null,
      "outputs": []
    },
    {
      "cell_type": "code",
      "source": [
        "'''\n",
        "print(ct_filename)\n",
        "print(len(ct_data))\n",
        "print(len(ct_data[2]))\n",
        "print(ct_data)\n",
        "print(ct_data[2])\n",
        "'''"
      ],
      "metadata": {
        "colab": {
          "base_uri": "https://localhost:8080/",
          "height": 35
        },
        "id": "t4b2CBR9fwxS",
        "outputId": "90e90fae-1365-44d3-9fdd-e7c1106f3b65"
      },
      "execution_count": null,
      "outputs": [
        {
          "output_type": "execute_result",
          "data": {
            "text/plain": [
              "'\\nprint(ct_filename)\\nprint(len(ct_data))\\nprint(len(ct_data[2]))\\nprint(ct_data)\\nprint(ct_data[2])\\n'"
            ],
            "application/vnd.google.colaboratory.intrinsic+json": {
              "type": "string"
            }
          },
          "metadata": {},
          "execution_count": 11
        }
      ]
    },
    {
      "cell_type": "code",
      "source": [
        "'''\n",
        "print(len(ct_data[0]))\n",
        "print(ct_data[0].shape)\n",
        "'''"
      ],
      "metadata": {
        "colab": {
          "base_uri": "https://localhost:8080/",
          "height": 35
        },
        "id": "rI7Y6eq6nsbN",
        "outputId": "dc807a49-0ce2-4e91-e83a-3425ddd8e09c"
      },
      "execution_count": null,
      "outputs": [
        {
          "output_type": "execute_result",
          "data": {
            "text/plain": [
              "'\\nprint(len(ct_data[0]))\\nprint(ct_data[0].shape)\\n'"
            ],
            "application/vnd.google.colaboratory.intrinsic+json": {
              "type": "string"
            }
          },
          "metadata": {},
          "execution_count": 12
        }
      ]
    },
    {
      "cell_type": "markdown",
      "source": [
        "#데이터 reshape"
      ],
      "metadata": {
        "id": "ZUvE7qewu1L2"
      }
    },
    {
      "cell_type": "code",
      "source": [
        "for i in range(len(ct_data)):\n",
        "    ct_data[i] = ct_data[i].reshape(5000, 12)\n",
        "\n",
        "for i in range(len(cv_data)):\n",
        "    cv_data[i] = cv_data[i].reshape(5000, 12)"
      ],
      "metadata": {
        "id": "nFyDrDCmnzmt"
      },
      "execution_count": null,
      "outputs": []
    },
    {
      "cell_type": "code",
      "source": [
        "for i in range(len(av_data)):\n",
        "    av_data[i] = av_data[i].reshape(5000, 12)\n",
        "\n",
        "for i in range(len(at_data)):\n",
        "    at_data[i] = at_data[i].reshape(5000, 12)\n"
      ],
      "metadata": {
        "id": "KIRyEKKCuCBZ"
      },
      "execution_count": null,
      "outputs": []
    },
    {
      "cell_type": "code",
      "source": [
        "#ct_data[1]"
      ],
      "metadata": {
        "id": "MkdgUN9_oJdq"
      },
      "execution_count": null,
      "outputs": []
    },
    {
      "cell_type": "markdown",
      "source": [
        "#ECG 데이터와 csv데이터 연결"
      ],
      "metadata": {
        "id": "MqztIeZKu7oe"
      }
    },
    {
      "cell_type": "code",
      "source": [
        "new_list = [item.replace('.npy', '') for item in ct_filename]\n",
        "new_list2 = [item.replace('.npy', '') for item in cv_filename]"
      ],
      "metadata": {
        "id": "ojXfhjZdL84a"
      },
      "execution_count": null,
      "outputs": []
    },
    {
      "cell_type": "code",
      "source": [
        "new_list3 = [item.replace('.npy', '') for item in av_filename]\n",
        "new_list4 = [item.replace('.npy', '') for item in at_filename]\n",
        "new_list4 = [item.replace('ECG_adult_numpy_train/', '') for item in new_list4]"
      ],
      "metadata": {
        "id": "sQp2SdtDp24r"
      },
      "execution_count": null,
      "outputs": []
    },
    {
      "cell_type": "code",
      "source": [
        "combined_data = pd.DataFrame({'FILENAME': new_list, 'ECG_SIGNAL': ct_data})\n",
        "combined_data = pd.merge(ECG_child_age_train, combined_data, on='FILENAME', how='inner')\n",
        "combined_data = combined_data[combined_data['GENDER'] != 'unknown']\n",
        "combined_data[\"GENDER\"] = combined_data['GENDER'].map({'MALE' :0, 'FEMALE':1})\n",
        "combined_data"
      ],
      "metadata": {
        "colab": {
          "base_uri": "https://localhost:8080/",
          "height": 424
        },
        "id": "6fj_E5uvqHLV",
        "outputId": "0b82eace-d782-4b98-b79c-0047d4c19162"
      },
      "execution_count": null,
      "outputs": [
        {
          "output_type": "execute_result",
          "data": {
            "text/plain": [
              "            FILENAME  GENDER       AGE  \\\n",
              "0        ecg_child_0       0  1.500000   \n",
              "1        ecg_child_1       0  4.833333   \n",
              "2        ecg_child_2       1  5.583333   \n",
              "3        ecg_child_3       1  5.083333   \n",
              "4        ecg_child_4       0  0.166667   \n",
              "...              ...     ...       ...   \n",
              "8776  ecg_child_8776       0  0.666667   \n",
              "8777  ecg_child_8777       0  0.083333   \n",
              "8778  ecg_child_8778       1  5.833333   \n",
              "8779  ecg_child_8779       1  2.250000   \n",
              "8780  ecg_child_8780       0  4.500000   \n",
              "\n",
              "                                             ECG_SIGNAL  \n",
              "0     [[76.0, 76.0, 76.0, 76.0, 75.0, 74.0, 73.0, 72...  \n",
              "1     [[-10.0, -10.0, -10.0, -10.0, -10.0, -10.0, -1...  \n",
              "2     [[-12.0, -12.0, -12.0, -12.0, -12.0, -12.0, -1...  \n",
              "3     [[-14.0, -14.0, -14.0, -14.0, -16.0, -16.0, -1...  \n",
              "4     [[-21.0, -21.0, -20.0, -20.0, -22.0, -22.0, -2...  \n",
              "...                                                 ...  \n",
              "8776  [[-10.0, -10.0, -10.0, -10.0, -6.0, -4.0, -2.0...  \n",
              "8777  [[-48.0, -48.0, -48.0, -48.0, -48.0, -48.0, -4...  \n",
              "8778  [[-10.0, -10.0, -10.0, -10.0, -10.0, -10.0, -1...  \n",
              "8779  [[0.0, 0.0, 0.0, 0.0, -2.0, -2.0, -2.0, -2.0, ...  \n",
              "8780  [[24.0, 24.0, 24.0, 24.0, 23.0, 22.0, 21.0, 20...  \n",
              "\n",
              "[8780 rows x 4 columns]"
            ],
            "text/html": [
              "\n",
              "  <div id=\"df-3bcd25c5-be06-4c56-b694-f542bc013595\" class=\"colab-df-container\">\n",
              "    <div>\n",
              "<style scoped>\n",
              "    .dataframe tbody tr th:only-of-type {\n",
              "        vertical-align: middle;\n",
              "    }\n",
              "\n",
              "    .dataframe tbody tr th {\n",
              "        vertical-align: top;\n",
              "    }\n",
              "\n",
              "    .dataframe thead th {\n",
              "        text-align: right;\n",
              "    }\n",
              "</style>\n",
              "<table border=\"1\" class=\"dataframe\">\n",
              "  <thead>\n",
              "    <tr style=\"text-align: right;\">\n",
              "      <th></th>\n",
              "      <th>FILENAME</th>\n",
              "      <th>GENDER</th>\n",
              "      <th>AGE</th>\n",
              "      <th>ECG_SIGNAL</th>\n",
              "    </tr>\n",
              "  </thead>\n",
              "  <tbody>\n",
              "    <tr>\n",
              "      <th>0</th>\n",
              "      <td>ecg_child_0</td>\n",
              "      <td>0</td>\n",
              "      <td>1.500000</td>\n",
              "      <td>[[76.0, 76.0, 76.0, 76.0, 75.0, 74.0, 73.0, 72...</td>\n",
              "    </tr>\n",
              "    <tr>\n",
              "      <th>1</th>\n",
              "      <td>ecg_child_1</td>\n",
              "      <td>0</td>\n",
              "      <td>4.833333</td>\n",
              "      <td>[[-10.0, -10.0, -10.0, -10.0, -10.0, -10.0, -1...</td>\n",
              "    </tr>\n",
              "    <tr>\n",
              "      <th>2</th>\n",
              "      <td>ecg_child_2</td>\n",
              "      <td>1</td>\n",
              "      <td>5.583333</td>\n",
              "      <td>[[-12.0, -12.0, -12.0, -12.0, -12.0, -12.0, -1...</td>\n",
              "    </tr>\n",
              "    <tr>\n",
              "      <th>3</th>\n",
              "      <td>ecg_child_3</td>\n",
              "      <td>1</td>\n",
              "      <td>5.083333</td>\n",
              "      <td>[[-14.0, -14.0, -14.0, -14.0, -16.0, -16.0, -1...</td>\n",
              "    </tr>\n",
              "    <tr>\n",
              "      <th>4</th>\n",
              "      <td>ecg_child_4</td>\n",
              "      <td>0</td>\n",
              "      <td>0.166667</td>\n",
              "      <td>[[-21.0, -21.0, -20.0, -20.0, -22.0, -22.0, -2...</td>\n",
              "    </tr>\n",
              "    <tr>\n",
              "      <th>...</th>\n",
              "      <td>...</td>\n",
              "      <td>...</td>\n",
              "      <td>...</td>\n",
              "      <td>...</td>\n",
              "    </tr>\n",
              "    <tr>\n",
              "      <th>8776</th>\n",
              "      <td>ecg_child_8776</td>\n",
              "      <td>0</td>\n",
              "      <td>0.666667</td>\n",
              "      <td>[[-10.0, -10.0, -10.0, -10.0, -6.0, -4.0, -2.0...</td>\n",
              "    </tr>\n",
              "    <tr>\n",
              "      <th>8777</th>\n",
              "      <td>ecg_child_8777</td>\n",
              "      <td>0</td>\n",
              "      <td>0.083333</td>\n",
              "      <td>[[-48.0, -48.0, -48.0, -48.0, -48.0, -48.0, -4...</td>\n",
              "    </tr>\n",
              "    <tr>\n",
              "      <th>8778</th>\n",
              "      <td>ecg_child_8778</td>\n",
              "      <td>1</td>\n",
              "      <td>5.833333</td>\n",
              "      <td>[[-10.0, -10.0, -10.0, -10.0, -10.0, -10.0, -1...</td>\n",
              "    </tr>\n",
              "    <tr>\n",
              "      <th>8779</th>\n",
              "      <td>ecg_child_8779</td>\n",
              "      <td>1</td>\n",
              "      <td>2.250000</td>\n",
              "      <td>[[0.0, 0.0, 0.0, 0.0, -2.0, -2.0, -2.0, -2.0, ...</td>\n",
              "    </tr>\n",
              "    <tr>\n",
              "      <th>8780</th>\n",
              "      <td>ecg_child_8780</td>\n",
              "      <td>0</td>\n",
              "      <td>4.500000</td>\n",
              "      <td>[[24.0, 24.0, 24.0, 24.0, 23.0, 22.0, 21.0, 20...</td>\n",
              "    </tr>\n",
              "  </tbody>\n",
              "</table>\n",
              "<p>8780 rows × 4 columns</p>\n",
              "</div>\n",
              "    <div class=\"colab-df-buttons\">\n",
              "\n",
              "  <div class=\"colab-df-container\">\n",
              "    <button class=\"colab-df-convert\" onclick=\"convertToInteractive('df-3bcd25c5-be06-4c56-b694-f542bc013595')\"\n",
              "            title=\"Convert this dataframe to an interactive table.\"\n",
              "            style=\"display:none;\">\n",
              "\n",
              "  <svg xmlns=\"http://www.w3.org/2000/svg\" height=\"24px\" viewBox=\"0 -960 960 960\">\n",
              "    <path d=\"M120-120v-720h720v720H120Zm60-500h600v-160H180v160Zm220 220h160v-160H400v160Zm0 220h160v-160H400v160ZM180-400h160v-160H180v160Zm440 0h160v-160H620v160ZM180-180h160v-160H180v160Zm440 0h160v-160H620v160Z\"/>\n",
              "  </svg>\n",
              "    </button>\n",
              "\n",
              "  <style>\n",
              "    .colab-df-container {\n",
              "      display:flex;\n",
              "      gap: 12px;\n",
              "    }\n",
              "\n",
              "    .colab-df-convert {\n",
              "      background-color: #E8F0FE;\n",
              "      border: none;\n",
              "      border-radius: 50%;\n",
              "      cursor: pointer;\n",
              "      display: none;\n",
              "      fill: #1967D2;\n",
              "      height: 32px;\n",
              "      padding: 0 0 0 0;\n",
              "      width: 32px;\n",
              "    }\n",
              "\n",
              "    .colab-df-convert:hover {\n",
              "      background-color: #E2EBFA;\n",
              "      box-shadow: 0px 1px 2px rgba(60, 64, 67, 0.3), 0px 1px 3px 1px rgba(60, 64, 67, 0.15);\n",
              "      fill: #174EA6;\n",
              "    }\n",
              "\n",
              "    .colab-df-buttons div {\n",
              "      margin-bottom: 4px;\n",
              "    }\n",
              "\n",
              "    [theme=dark] .colab-df-convert {\n",
              "      background-color: #3B4455;\n",
              "      fill: #D2E3FC;\n",
              "    }\n",
              "\n",
              "    [theme=dark] .colab-df-convert:hover {\n",
              "      background-color: #434B5C;\n",
              "      box-shadow: 0px 1px 3px 1px rgba(0, 0, 0, 0.15);\n",
              "      filter: drop-shadow(0px 1px 2px rgba(0, 0, 0, 0.3));\n",
              "      fill: #FFFFFF;\n",
              "    }\n",
              "  </style>\n",
              "\n",
              "    <script>\n",
              "      const buttonEl =\n",
              "        document.querySelector('#df-3bcd25c5-be06-4c56-b694-f542bc013595 button.colab-df-convert');\n",
              "      buttonEl.style.display =\n",
              "        google.colab.kernel.accessAllowed ? 'block' : 'none';\n",
              "\n",
              "      async function convertToInteractive(key) {\n",
              "        const element = document.querySelector('#df-3bcd25c5-be06-4c56-b694-f542bc013595');\n",
              "        const dataTable =\n",
              "          await google.colab.kernel.invokeFunction('convertToInteractive',\n",
              "                                                    [key], {});\n",
              "        if (!dataTable) return;\n",
              "\n",
              "        const docLinkHtml = 'Like what you see? Visit the ' +\n",
              "          '<a target=\"_blank\" href=https://colab.research.google.com/notebooks/data_table.ipynb>data table notebook</a>'\n",
              "          + ' to learn more about interactive tables.';\n",
              "        element.innerHTML = '';\n",
              "        dataTable['output_type'] = 'display_data';\n",
              "        await google.colab.output.renderOutput(dataTable, element);\n",
              "        const docLink = document.createElement('div');\n",
              "        docLink.innerHTML = docLinkHtml;\n",
              "        element.appendChild(docLink);\n",
              "      }\n",
              "    </script>\n",
              "  </div>\n",
              "\n",
              "\n",
              "<div id=\"df-aa52d4e1-b080-47af-a26f-88939823c9e5\">\n",
              "  <button class=\"colab-df-quickchart\" onclick=\"quickchart('df-aa52d4e1-b080-47af-a26f-88939823c9e5')\"\n",
              "            title=\"Suggest charts.\"\n",
              "            style=\"display:none;\">\n",
              "\n",
              "<svg xmlns=\"http://www.w3.org/2000/svg\" height=\"24px\"viewBox=\"0 0 24 24\"\n",
              "     width=\"24px\">\n",
              "    <g>\n",
              "        <path d=\"M19 3H5c-1.1 0-2 .9-2 2v14c0 1.1.9 2 2 2h14c1.1 0 2-.9 2-2V5c0-1.1-.9-2-2-2zM9 17H7v-7h2v7zm4 0h-2V7h2v10zm4 0h-2v-4h2v4z\"/>\n",
              "    </g>\n",
              "</svg>\n",
              "  </button>\n",
              "\n",
              "<style>\n",
              "  .colab-df-quickchart {\n",
              "      --bg-color: #E8F0FE;\n",
              "      --fill-color: #1967D2;\n",
              "      --hover-bg-color: #E2EBFA;\n",
              "      --hover-fill-color: #174EA6;\n",
              "      --disabled-fill-color: #AAA;\n",
              "      --disabled-bg-color: #DDD;\n",
              "  }\n",
              "\n",
              "  [theme=dark] .colab-df-quickchart {\n",
              "      --bg-color: #3B4455;\n",
              "      --fill-color: #D2E3FC;\n",
              "      --hover-bg-color: #434B5C;\n",
              "      --hover-fill-color: #FFFFFF;\n",
              "      --disabled-bg-color: #3B4455;\n",
              "      --disabled-fill-color: #666;\n",
              "  }\n",
              "\n",
              "  .colab-df-quickchart {\n",
              "    background-color: var(--bg-color);\n",
              "    border: none;\n",
              "    border-radius: 50%;\n",
              "    cursor: pointer;\n",
              "    display: none;\n",
              "    fill: var(--fill-color);\n",
              "    height: 32px;\n",
              "    padding: 0;\n",
              "    width: 32px;\n",
              "  }\n",
              "\n",
              "  .colab-df-quickchart:hover {\n",
              "    background-color: var(--hover-bg-color);\n",
              "    box-shadow: 0 1px 2px rgba(60, 64, 67, 0.3), 0 1px 3px 1px rgba(60, 64, 67, 0.15);\n",
              "    fill: var(--button-hover-fill-color);\n",
              "  }\n",
              "\n",
              "  .colab-df-quickchart-complete:disabled,\n",
              "  .colab-df-quickchart-complete:disabled:hover {\n",
              "    background-color: var(--disabled-bg-color);\n",
              "    fill: var(--disabled-fill-color);\n",
              "    box-shadow: none;\n",
              "  }\n",
              "\n",
              "  .colab-df-spinner {\n",
              "    border: 2px solid var(--fill-color);\n",
              "    border-color: transparent;\n",
              "    border-bottom-color: var(--fill-color);\n",
              "    animation:\n",
              "      spin 1s steps(1) infinite;\n",
              "  }\n",
              "\n",
              "  @keyframes spin {\n",
              "    0% {\n",
              "      border-color: transparent;\n",
              "      border-bottom-color: var(--fill-color);\n",
              "      border-left-color: var(--fill-color);\n",
              "    }\n",
              "    20% {\n",
              "      border-color: transparent;\n",
              "      border-left-color: var(--fill-color);\n",
              "      border-top-color: var(--fill-color);\n",
              "    }\n",
              "    30% {\n",
              "      border-color: transparent;\n",
              "      border-left-color: var(--fill-color);\n",
              "      border-top-color: var(--fill-color);\n",
              "      border-right-color: var(--fill-color);\n",
              "    }\n",
              "    40% {\n",
              "      border-color: transparent;\n",
              "      border-right-color: var(--fill-color);\n",
              "      border-top-color: var(--fill-color);\n",
              "    }\n",
              "    60% {\n",
              "      border-color: transparent;\n",
              "      border-right-color: var(--fill-color);\n",
              "    }\n",
              "    80% {\n",
              "      border-color: transparent;\n",
              "      border-right-color: var(--fill-color);\n",
              "      border-bottom-color: var(--fill-color);\n",
              "    }\n",
              "    90% {\n",
              "      border-color: transparent;\n",
              "      border-bottom-color: var(--fill-color);\n",
              "    }\n",
              "  }\n",
              "</style>\n",
              "\n",
              "  <script>\n",
              "    async function quickchart(key) {\n",
              "      const quickchartButtonEl =\n",
              "        document.querySelector('#' + key + ' button');\n",
              "      quickchartButtonEl.disabled = true;  // To prevent multiple clicks.\n",
              "      quickchartButtonEl.classList.add('colab-df-spinner');\n",
              "      try {\n",
              "        const charts = await google.colab.kernel.invokeFunction(\n",
              "            'suggestCharts', [key], {});\n",
              "      } catch (error) {\n",
              "        console.error('Error during call to suggestCharts:', error);\n",
              "      }\n",
              "      quickchartButtonEl.classList.remove('colab-df-spinner');\n",
              "      quickchartButtonEl.classList.add('colab-df-quickchart-complete');\n",
              "    }\n",
              "    (() => {\n",
              "      let quickchartButtonEl =\n",
              "        document.querySelector('#df-aa52d4e1-b080-47af-a26f-88939823c9e5 button');\n",
              "      quickchartButtonEl.style.display =\n",
              "        google.colab.kernel.accessAllowed ? 'block' : 'none';\n",
              "    })();\n",
              "  </script>\n",
              "</div>\n",
              "    </div>\n",
              "  </div>\n"
            ]
          },
          "metadata": {},
          "execution_count": 17
        }
      ]
    },
    {
      "cell_type": "code",
      "source": [
        "combined_data2 = pd.DataFrame({'FILENAME': new_list4, 'ECG_SIGNAL': at_data})\n",
        "combined_data2 = pd.merge(ECG_adult_age_train, combined_data2, on='FILENAME', how='inner')\n",
        "combined_data2 = combined_data2[combined_data2['GENDER'] != 'unknown']\n",
        "combined_data2[\"GENDER\"] = combined_data2['GENDER'].map({'MALE' :0, 'FEMALE':1})\n",
        "combined_data2"
      ],
      "metadata": {
        "colab": {
          "base_uri": "https://localhost:8080/",
          "height": 424
        },
        "id": "hXqnigGkFR00",
        "outputId": "64fcf2e8-5a29-4fe6-f8a1-d608e0afe8f9"
      },
      "execution_count": null,
      "outputs": [
        {
          "output_type": "execute_result",
          "data": {
            "text/plain": [
              "              FILENAME  GENDER  AGE  \\\n",
              "0          ecg_adult_0       0   53   \n",
              "1          ecg_adult_1       0   68   \n",
              "2          ecg_adult_2       0   68   \n",
              "3          ecg_adult_3       0   89   \n",
              "4          ecg_adult_4       0   79   \n",
              "...                ...     ...  ...   \n",
              "34902  ecg_adult_35136       0   19   \n",
              "34903  ecg_adult_35137       1   63   \n",
              "34904  ecg_adult_35138       0   60   \n",
              "34905  ecg_adult_35139       1   60   \n",
              "34906  ecg_adult_35140       0   53   \n",
              "\n",
              "                                              ECG_SIGNAL  \n",
              "0      [[12.0, 12.0, 12.0, 12.0, 11.0, 10.0, 9.0, 8.0...  \n",
              "1      [[-2.0, -2.0, -2.0, -2.0, -4.0, -4.0, -4.0, -4...  \n",
              "2      [[-10.0, -10.0, -10.0, -10.0, -10.0, -10.0, -1...  \n",
              "3      [[-6.0, -6.0, -6.0, -5.0, -7.0, -7.0, -7.0, -7...  \n",
              "4      [[2.0, 2.0, 2.0, 2.0, 4.0, 6.0, 8.0, 10.0, 8.0...  \n",
              "...                                                  ...  \n",
              "34902  [[-16.0, -16.0, -16.0, -16.0, -14.0, -14.0, -1...  \n",
              "34903  [[11.0, 12.0, 12.0, 12.0, 12.0, 13.0, 13.0, 13...  \n",
              "34904  [[-10.0, -10.0, -10.0, -10.0, -12.0, -12.0, -1...  \n",
              "34905  [[0.0, 0.0, 0.0, 0.0, -1.0, -2.0, -3.0, -4.0, ...  \n",
              "34906  [[-44.0, -44.0, -44.0, -44.0, -45.0, -46.0, -4...  \n",
              "\n",
              "[34883 rows x 4 columns]"
            ],
            "text/html": [
              "\n",
              "  <div id=\"df-ef83e678-d47f-438b-b890-1766c6574bba\" class=\"colab-df-container\">\n",
              "    <div>\n",
              "<style scoped>\n",
              "    .dataframe tbody tr th:only-of-type {\n",
              "        vertical-align: middle;\n",
              "    }\n",
              "\n",
              "    .dataframe tbody tr th {\n",
              "        vertical-align: top;\n",
              "    }\n",
              "\n",
              "    .dataframe thead th {\n",
              "        text-align: right;\n",
              "    }\n",
              "</style>\n",
              "<table border=\"1\" class=\"dataframe\">\n",
              "  <thead>\n",
              "    <tr style=\"text-align: right;\">\n",
              "      <th></th>\n",
              "      <th>FILENAME</th>\n",
              "      <th>GENDER</th>\n",
              "      <th>AGE</th>\n",
              "      <th>ECG_SIGNAL</th>\n",
              "    </tr>\n",
              "  </thead>\n",
              "  <tbody>\n",
              "    <tr>\n",
              "      <th>0</th>\n",
              "      <td>ecg_adult_0</td>\n",
              "      <td>0</td>\n",
              "      <td>53</td>\n",
              "      <td>[[12.0, 12.0, 12.0, 12.0, 11.0, 10.0, 9.0, 8.0...</td>\n",
              "    </tr>\n",
              "    <tr>\n",
              "      <th>1</th>\n",
              "      <td>ecg_adult_1</td>\n",
              "      <td>0</td>\n",
              "      <td>68</td>\n",
              "      <td>[[-2.0, -2.0, -2.0, -2.0, -4.0, -4.0, -4.0, -4...</td>\n",
              "    </tr>\n",
              "    <tr>\n",
              "      <th>2</th>\n",
              "      <td>ecg_adult_2</td>\n",
              "      <td>0</td>\n",
              "      <td>68</td>\n",
              "      <td>[[-10.0, -10.0, -10.0, -10.0, -10.0, -10.0, -1...</td>\n",
              "    </tr>\n",
              "    <tr>\n",
              "      <th>3</th>\n",
              "      <td>ecg_adult_3</td>\n",
              "      <td>0</td>\n",
              "      <td>89</td>\n",
              "      <td>[[-6.0, -6.0, -6.0, -5.0, -7.0, -7.0, -7.0, -7...</td>\n",
              "    </tr>\n",
              "    <tr>\n",
              "      <th>4</th>\n",
              "      <td>ecg_adult_4</td>\n",
              "      <td>0</td>\n",
              "      <td>79</td>\n",
              "      <td>[[2.0, 2.0, 2.0, 2.0, 4.0, 6.0, 8.0, 10.0, 8.0...</td>\n",
              "    </tr>\n",
              "    <tr>\n",
              "      <th>...</th>\n",
              "      <td>...</td>\n",
              "      <td>...</td>\n",
              "      <td>...</td>\n",
              "      <td>...</td>\n",
              "    </tr>\n",
              "    <tr>\n",
              "      <th>34902</th>\n",
              "      <td>ecg_adult_35136</td>\n",
              "      <td>0</td>\n",
              "      <td>19</td>\n",
              "      <td>[[-16.0, -16.0, -16.0, -16.0, -14.0, -14.0, -1...</td>\n",
              "    </tr>\n",
              "    <tr>\n",
              "      <th>34903</th>\n",
              "      <td>ecg_adult_35137</td>\n",
              "      <td>1</td>\n",
              "      <td>63</td>\n",
              "      <td>[[11.0, 12.0, 12.0, 12.0, 12.0, 13.0, 13.0, 13...</td>\n",
              "    </tr>\n",
              "    <tr>\n",
              "      <th>34904</th>\n",
              "      <td>ecg_adult_35138</td>\n",
              "      <td>0</td>\n",
              "      <td>60</td>\n",
              "      <td>[[-10.0, -10.0, -10.0, -10.0, -12.0, -12.0, -1...</td>\n",
              "    </tr>\n",
              "    <tr>\n",
              "      <th>34905</th>\n",
              "      <td>ecg_adult_35139</td>\n",
              "      <td>1</td>\n",
              "      <td>60</td>\n",
              "      <td>[[0.0, 0.0, 0.0, 0.0, -1.0, -2.0, -3.0, -4.0, ...</td>\n",
              "    </tr>\n",
              "    <tr>\n",
              "      <th>34906</th>\n",
              "      <td>ecg_adult_35140</td>\n",
              "      <td>0</td>\n",
              "      <td>53</td>\n",
              "      <td>[[-44.0, -44.0, -44.0, -44.0, -45.0, -46.0, -4...</td>\n",
              "    </tr>\n",
              "  </tbody>\n",
              "</table>\n",
              "<p>34883 rows × 4 columns</p>\n",
              "</div>\n",
              "    <div class=\"colab-df-buttons\">\n",
              "\n",
              "  <div class=\"colab-df-container\">\n",
              "    <button class=\"colab-df-convert\" onclick=\"convertToInteractive('df-ef83e678-d47f-438b-b890-1766c6574bba')\"\n",
              "            title=\"Convert this dataframe to an interactive table.\"\n",
              "            style=\"display:none;\">\n",
              "\n",
              "  <svg xmlns=\"http://www.w3.org/2000/svg\" height=\"24px\" viewBox=\"0 -960 960 960\">\n",
              "    <path d=\"M120-120v-720h720v720H120Zm60-500h600v-160H180v160Zm220 220h160v-160H400v160Zm0 220h160v-160H400v160ZM180-400h160v-160H180v160Zm440 0h160v-160H620v160ZM180-180h160v-160H180v160Zm440 0h160v-160H620v160Z\"/>\n",
              "  </svg>\n",
              "    </button>\n",
              "\n",
              "  <style>\n",
              "    .colab-df-container {\n",
              "      display:flex;\n",
              "      gap: 12px;\n",
              "    }\n",
              "\n",
              "    .colab-df-convert {\n",
              "      background-color: #E8F0FE;\n",
              "      border: none;\n",
              "      border-radius: 50%;\n",
              "      cursor: pointer;\n",
              "      display: none;\n",
              "      fill: #1967D2;\n",
              "      height: 32px;\n",
              "      padding: 0 0 0 0;\n",
              "      width: 32px;\n",
              "    }\n",
              "\n",
              "    .colab-df-convert:hover {\n",
              "      background-color: #E2EBFA;\n",
              "      box-shadow: 0px 1px 2px rgba(60, 64, 67, 0.3), 0px 1px 3px 1px rgba(60, 64, 67, 0.15);\n",
              "      fill: #174EA6;\n",
              "    }\n",
              "\n",
              "    .colab-df-buttons div {\n",
              "      margin-bottom: 4px;\n",
              "    }\n",
              "\n",
              "    [theme=dark] .colab-df-convert {\n",
              "      background-color: #3B4455;\n",
              "      fill: #D2E3FC;\n",
              "    }\n",
              "\n",
              "    [theme=dark] .colab-df-convert:hover {\n",
              "      background-color: #434B5C;\n",
              "      box-shadow: 0px 1px 3px 1px rgba(0, 0, 0, 0.15);\n",
              "      filter: drop-shadow(0px 1px 2px rgba(0, 0, 0, 0.3));\n",
              "      fill: #FFFFFF;\n",
              "    }\n",
              "  </style>\n",
              "\n",
              "    <script>\n",
              "      const buttonEl =\n",
              "        document.querySelector('#df-ef83e678-d47f-438b-b890-1766c6574bba button.colab-df-convert');\n",
              "      buttonEl.style.display =\n",
              "        google.colab.kernel.accessAllowed ? 'block' : 'none';\n",
              "\n",
              "      async function convertToInteractive(key) {\n",
              "        const element = document.querySelector('#df-ef83e678-d47f-438b-b890-1766c6574bba');\n",
              "        const dataTable =\n",
              "          await google.colab.kernel.invokeFunction('convertToInteractive',\n",
              "                                                    [key], {});\n",
              "        if (!dataTable) return;\n",
              "\n",
              "        const docLinkHtml = 'Like what you see? Visit the ' +\n",
              "          '<a target=\"_blank\" href=https://colab.research.google.com/notebooks/data_table.ipynb>data table notebook</a>'\n",
              "          + ' to learn more about interactive tables.';\n",
              "        element.innerHTML = '';\n",
              "        dataTable['output_type'] = 'display_data';\n",
              "        await google.colab.output.renderOutput(dataTable, element);\n",
              "        const docLink = document.createElement('div');\n",
              "        docLink.innerHTML = docLinkHtml;\n",
              "        element.appendChild(docLink);\n",
              "      }\n",
              "    </script>\n",
              "  </div>\n",
              "\n",
              "\n",
              "<div id=\"df-96f7cfda-7fc0-45d3-9cbe-21ab12a61d66\">\n",
              "  <button class=\"colab-df-quickchart\" onclick=\"quickchart('df-96f7cfda-7fc0-45d3-9cbe-21ab12a61d66')\"\n",
              "            title=\"Suggest charts.\"\n",
              "            style=\"display:none;\">\n",
              "\n",
              "<svg xmlns=\"http://www.w3.org/2000/svg\" height=\"24px\"viewBox=\"0 0 24 24\"\n",
              "     width=\"24px\">\n",
              "    <g>\n",
              "        <path d=\"M19 3H5c-1.1 0-2 .9-2 2v14c0 1.1.9 2 2 2h14c1.1 0 2-.9 2-2V5c0-1.1-.9-2-2-2zM9 17H7v-7h2v7zm4 0h-2V7h2v10zm4 0h-2v-4h2v4z\"/>\n",
              "    </g>\n",
              "</svg>\n",
              "  </button>\n",
              "\n",
              "<style>\n",
              "  .colab-df-quickchart {\n",
              "      --bg-color: #E8F0FE;\n",
              "      --fill-color: #1967D2;\n",
              "      --hover-bg-color: #E2EBFA;\n",
              "      --hover-fill-color: #174EA6;\n",
              "      --disabled-fill-color: #AAA;\n",
              "      --disabled-bg-color: #DDD;\n",
              "  }\n",
              "\n",
              "  [theme=dark] .colab-df-quickchart {\n",
              "      --bg-color: #3B4455;\n",
              "      --fill-color: #D2E3FC;\n",
              "      --hover-bg-color: #434B5C;\n",
              "      --hover-fill-color: #FFFFFF;\n",
              "      --disabled-bg-color: #3B4455;\n",
              "      --disabled-fill-color: #666;\n",
              "  }\n",
              "\n",
              "  .colab-df-quickchart {\n",
              "    background-color: var(--bg-color);\n",
              "    border: none;\n",
              "    border-radius: 50%;\n",
              "    cursor: pointer;\n",
              "    display: none;\n",
              "    fill: var(--fill-color);\n",
              "    height: 32px;\n",
              "    padding: 0;\n",
              "    width: 32px;\n",
              "  }\n",
              "\n",
              "  .colab-df-quickchart:hover {\n",
              "    background-color: var(--hover-bg-color);\n",
              "    box-shadow: 0 1px 2px rgba(60, 64, 67, 0.3), 0 1px 3px 1px rgba(60, 64, 67, 0.15);\n",
              "    fill: var(--button-hover-fill-color);\n",
              "  }\n",
              "\n",
              "  .colab-df-quickchart-complete:disabled,\n",
              "  .colab-df-quickchart-complete:disabled:hover {\n",
              "    background-color: var(--disabled-bg-color);\n",
              "    fill: var(--disabled-fill-color);\n",
              "    box-shadow: none;\n",
              "  }\n",
              "\n",
              "  .colab-df-spinner {\n",
              "    border: 2px solid var(--fill-color);\n",
              "    border-color: transparent;\n",
              "    border-bottom-color: var(--fill-color);\n",
              "    animation:\n",
              "      spin 1s steps(1) infinite;\n",
              "  }\n",
              "\n",
              "  @keyframes spin {\n",
              "    0% {\n",
              "      border-color: transparent;\n",
              "      border-bottom-color: var(--fill-color);\n",
              "      border-left-color: var(--fill-color);\n",
              "    }\n",
              "    20% {\n",
              "      border-color: transparent;\n",
              "      border-left-color: var(--fill-color);\n",
              "      border-top-color: var(--fill-color);\n",
              "    }\n",
              "    30% {\n",
              "      border-color: transparent;\n",
              "      border-left-color: var(--fill-color);\n",
              "      border-top-color: var(--fill-color);\n",
              "      border-right-color: var(--fill-color);\n",
              "    }\n",
              "    40% {\n",
              "      border-color: transparent;\n",
              "      border-right-color: var(--fill-color);\n",
              "      border-top-color: var(--fill-color);\n",
              "    }\n",
              "    60% {\n",
              "      border-color: transparent;\n",
              "      border-right-color: var(--fill-color);\n",
              "    }\n",
              "    80% {\n",
              "      border-color: transparent;\n",
              "      border-right-color: var(--fill-color);\n",
              "      border-bottom-color: var(--fill-color);\n",
              "    }\n",
              "    90% {\n",
              "      border-color: transparent;\n",
              "      border-bottom-color: var(--fill-color);\n",
              "    }\n",
              "  }\n",
              "</style>\n",
              "\n",
              "  <script>\n",
              "    async function quickchart(key) {\n",
              "      const quickchartButtonEl =\n",
              "        document.querySelector('#' + key + ' button');\n",
              "      quickchartButtonEl.disabled = true;  // To prevent multiple clicks.\n",
              "      quickchartButtonEl.classList.add('colab-df-spinner');\n",
              "      try {\n",
              "        const charts = await google.colab.kernel.invokeFunction(\n",
              "            'suggestCharts', [key], {});\n",
              "      } catch (error) {\n",
              "        console.error('Error during call to suggestCharts:', error);\n",
              "      }\n",
              "      quickchartButtonEl.classList.remove('colab-df-spinner');\n",
              "      quickchartButtonEl.classList.add('colab-df-quickchart-complete');\n",
              "    }\n",
              "    (() => {\n",
              "      let quickchartButtonEl =\n",
              "        document.querySelector('#df-96f7cfda-7fc0-45d3-9cbe-21ab12a61d66 button');\n",
              "      quickchartButtonEl.style.display =\n",
              "        google.colab.kernel.accessAllowed ? 'block' : 'none';\n",
              "    })();\n",
              "  </script>\n",
              "</div>\n",
              "    </div>\n",
              "  </div>\n"
            ]
          },
          "metadata": {},
          "execution_count": 13
        }
      ]
    },
    {
      "cell_type": "code",
      "source": [
        "#combined_data = pd.concat([combined_data, combined_data2], axis=0)"
      ],
      "metadata": {
        "id": "hKPTOyTXGTjp"
      },
      "execution_count": null,
      "outputs": []
    },
    {
      "cell_type": "code",
      "source": [
        "#combined_data_child = pd.DataFrame({'FILENAME': new_list2, 'ECG_SIGNAL': cv_data})\n",
        "combined_data_adult = pd.DataFrame({'FILENAME': new_list3, 'ECG_SIGNAL': av_data})\n",
        "#combined_valid = pd.concat([combined_data_child, combined_data_adult], axis=0)\n",
        "#combined_valid_child = pd.merge(submission, combined_data_child, on='FILENAME', how='inner')\n",
        "combined_valid_adult = pd.merge(submission, combined_data_adult, on='FILENAME', how='inner')\n",
        "\n",
        "#combined_valid_child = combined_valid_child[combined_valid_child['GENDER'] != 'unknown']\n",
        "#combined_valid_child[\"GENDER\"] = combined_valid_child['GENDER'].map({'MALE' :0, 'FEMALE':1})\n",
        "\n",
        "combined_valid_adult = combined_valid_adult[combined_valid_adult['GENDER'] != 'unknown']\n",
        "combined_valid_adult[\"GENDER\"] = combined_valid_adult['GENDER'].map({'MALE' :0, 'FEMALE':1})\n",
        "\n",
        "#combined_valid_child"
      ],
      "metadata": {
        "id": "Istgqez7RNyv"
      },
      "execution_count": null,
      "outputs": []
    },
    {
      "cell_type": "code",
      "source": [
        "combined_valid_adult"
      ],
      "metadata": {
        "colab": {
          "base_uri": "https://localhost:8080/",
          "height": 424
        },
        "id": "hdXxfFZDKXcx",
        "outputId": "3eb2c12b-0fce-4de0-a828-4567187d3444"
      },
      "execution_count": null,
      "outputs": [
        {
          "output_type": "execute_result",
          "data": {
            "text/plain": [
              "             FILENAME  GENDER  AGE  \\\n",
              "0     ecg_adult_35141       0  NaN   \n",
              "1     ecg_adult_35142       1  NaN   \n",
              "2     ecg_adult_35143       0  NaN   \n",
              "3     ecg_adult_35144       0  NaN   \n",
              "4     ecg_adult_35145       1  NaN   \n",
              "...               ...     ...  ...   \n",
              "4370  ecg_adult_39536       1  NaN   \n",
              "4371  ecg_adult_39537       1  NaN   \n",
              "4372  ecg_adult_39538       1  NaN   \n",
              "4373  ecg_adult_39539       1  NaN   \n",
              "4374  ecg_adult_39540       1  NaN   \n",
              "\n",
              "                                             ECG_SIGNAL  \n",
              "0     [[86.0, 86.0, 86.0, 86.0, 87.0, 88.0, 89.0, 90...  \n",
              "1     [[-4.0, -4.0, -4.0, -4.0, -6.0, -6.0, -6.0, -6...  \n",
              "2     [[82.0, 82.0, 82.0, 82.0, 92.0, 102.0, 112.0, ...  \n",
              "3     [[-6.0, -6.0, -6.0, -6.0, -6.0, -6.0, -6.0, -6...  \n",
              "4     [[2.0, 3.0, 4.0, 4.0, 4.0, 4.0, 4.0, 4.0, 4.0,...  \n",
              "...                                                 ...  \n",
              "4370  [[-8.0, -8.0, -8.0, -8.0, -6.0, -6.0, -6.0, -6...  \n",
              "4371  [[2.0, 2.0, 4.0, 2.0, 2.0, 2.0, 2.0, 1.0, 0.0,...  \n",
              "4372  [[26.0, 26.0, 26.0, 26.0, 27.0, 28.0, 29.0, 30...  \n",
              "4373  [[-15.0, -9.0, -1.0, 5.0, 2.0, -4.0, -2.0, -5....  \n",
              "4374  [[5.0, 5.0, 5.0, 4.0, 4.0, 3.0, 2.0, 2.0, 0.0,...  \n",
              "\n",
              "[4373 rows x 4 columns]"
            ],
            "text/html": [
              "\n",
              "  <div id=\"df-49c96a24-d046-4de5-b27a-94a31396b5ba\" class=\"colab-df-container\">\n",
              "    <div>\n",
              "<style scoped>\n",
              "    .dataframe tbody tr th:only-of-type {\n",
              "        vertical-align: middle;\n",
              "    }\n",
              "\n",
              "    .dataframe tbody tr th {\n",
              "        vertical-align: top;\n",
              "    }\n",
              "\n",
              "    .dataframe thead th {\n",
              "        text-align: right;\n",
              "    }\n",
              "</style>\n",
              "<table border=\"1\" class=\"dataframe\">\n",
              "  <thead>\n",
              "    <tr style=\"text-align: right;\">\n",
              "      <th></th>\n",
              "      <th>FILENAME</th>\n",
              "      <th>GENDER</th>\n",
              "      <th>AGE</th>\n",
              "      <th>ECG_SIGNAL</th>\n",
              "    </tr>\n",
              "  </thead>\n",
              "  <tbody>\n",
              "    <tr>\n",
              "      <th>0</th>\n",
              "      <td>ecg_adult_35141</td>\n",
              "      <td>0</td>\n",
              "      <td>NaN</td>\n",
              "      <td>[[86.0, 86.0, 86.0, 86.0, 87.0, 88.0, 89.0, 90...</td>\n",
              "    </tr>\n",
              "    <tr>\n",
              "      <th>1</th>\n",
              "      <td>ecg_adult_35142</td>\n",
              "      <td>1</td>\n",
              "      <td>NaN</td>\n",
              "      <td>[[-4.0, -4.0, -4.0, -4.0, -6.0, -6.0, -6.0, -6...</td>\n",
              "    </tr>\n",
              "    <tr>\n",
              "      <th>2</th>\n",
              "      <td>ecg_adult_35143</td>\n",
              "      <td>0</td>\n",
              "      <td>NaN</td>\n",
              "      <td>[[82.0, 82.0, 82.0, 82.0, 92.0, 102.0, 112.0, ...</td>\n",
              "    </tr>\n",
              "    <tr>\n",
              "      <th>3</th>\n",
              "      <td>ecg_adult_35144</td>\n",
              "      <td>0</td>\n",
              "      <td>NaN</td>\n",
              "      <td>[[-6.0, -6.0, -6.0, -6.0, -6.0, -6.0, -6.0, -6...</td>\n",
              "    </tr>\n",
              "    <tr>\n",
              "      <th>4</th>\n",
              "      <td>ecg_adult_35145</td>\n",
              "      <td>1</td>\n",
              "      <td>NaN</td>\n",
              "      <td>[[2.0, 3.0, 4.0, 4.0, 4.0, 4.0, 4.0, 4.0, 4.0,...</td>\n",
              "    </tr>\n",
              "    <tr>\n",
              "      <th>...</th>\n",
              "      <td>...</td>\n",
              "      <td>...</td>\n",
              "      <td>...</td>\n",
              "      <td>...</td>\n",
              "    </tr>\n",
              "    <tr>\n",
              "      <th>4370</th>\n",
              "      <td>ecg_adult_39536</td>\n",
              "      <td>1</td>\n",
              "      <td>NaN</td>\n",
              "      <td>[[-8.0, -8.0, -8.0, -8.0, -6.0, -6.0, -6.0, -6...</td>\n",
              "    </tr>\n",
              "    <tr>\n",
              "      <th>4371</th>\n",
              "      <td>ecg_adult_39537</td>\n",
              "      <td>1</td>\n",
              "      <td>NaN</td>\n",
              "      <td>[[2.0, 2.0, 4.0, 2.0, 2.0, 2.0, 2.0, 1.0, 0.0,...</td>\n",
              "    </tr>\n",
              "    <tr>\n",
              "      <th>4372</th>\n",
              "      <td>ecg_adult_39538</td>\n",
              "      <td>1</td>\n",
              "      <td>NaN</td>\n",
              "      <td>[[26.0, 26.0, 26.0, 26.0, 27.0, 28.0, 29.0, 30...</td>\n",
              "    </tr>\n",
              "    <tr>\n",
              "      <th>4373</th>\n",
              "      <td>ecg_adult_39539</td>\n",
              "      <td>1</td>\n",
              "      <td>NaN</td>\n",
              "      <td>[[-15.0, -9.0, -1.0, 5.0, 2.0, -4.0, -2.0, -5....</td>\n",
              "    </tr>\n",
              "    <tr>\n",
              "      <th>4374</th>\n",
              "      <td>ecg_adult_39540</td>\n",
              "      <td>1</td>\n",
              "      <td>NaN</td>\n",
              "      <td>[[5.0, 5.0, 5.0, 4.0, 4.0, 3.0, 2.0, 2.0, 0.0,...</td>\n",
              "    </tr>\n",
              "  </tbody>\n",
              "</table>\n",
              "<p>4373 rows × 4 columns</p>\n",
              "</div>\n",
              "    <div class=\"colab-df-buttons\">\n",
              "\n",
              "  <div class=\"colab-df-container\">\n",
              "    <button class=\"colab-df-convert\" onclick=\"convertToInteractive('df-49c96a24-d046-4de5-b27a-94a31396b5ba')\"\n",
              "            title=\"Convert this dataframe to an interactive table.\"\n",
              "            style=\"display:none;\">\n",
              "\n",
              "  <svg xmlns=\"http://www.w3.org/2000/svg\" height=\"24px\" viewBox=\"0 -960 960 960\">\n",
              "    <path d=\"M120-120v-720h720v720H120Zm60-500h600v-160H180v160Zm220 220h160v-160H400v160Zm0 220h160v-160H400v160ZM180-400h160v-160H180v160Zm440 0h160v-160H620v160ZM180-180h160v-160H180v160Zm440 0h160v-160H620v160Z\"/>\n",
              "  </svg>\n",
              "    </button>\n",
              "\n",
              "  <style>\n",
              "    .colab-df-container {\n",
              "      display:flex;\n",
              "      gap: 12px;\n",
              "    }\n",
              "\n",
              "    .colab-df-convert {\n",
              "      background-color: #E8F0FE;\n",
              "      border: none;\n",
              "      border-radius: 50%;\n",
              "      cursor: pointer;\n",
              "      display: none;\n",
              "      fill: #1967D2;\n",
              "      height: 32px;\n",
              "      padding: 0 0 0 0;\n",
              "      width: 32px;\n",
              "    }\n",
              "\n",
              "    .colab-df-convert:hover {\n",
              "      background-color: #E2EBFA;\n",
              "      box-shadow: 0px 1px 2px rgba(60, 64, 67, 0.3), 0px 1px 3px 1px rgba(60, 64, 67, 0.15);\n",
              "      fill: #174EA6;\n",
              "    }\n",
              "\n",
              "    .colab-df-buttons div {\n",
              "      margin-bottom: 4px;\n",
              "    }\n",
              "\n",
              "    [theme=dark] .colab-df-convert {\n",
              "      background-color: #3B4455;\n",
              "      fill: #D2E3FC;\n",
              "    }\n",
              "\n",
              "    [theme=dark] .colab-df-convert:hover {\n",
              "      background-color: #434B5C;\n",
              "      box-shadow: 0px 1px 3px 1px rgba(0, 0, 0, 0.15);\n",
              "      filter: drop-shadow(0px 1px 2px rgba(0, 0, 0, 0.3));\n",
              "      fill: #FFFFFF;\n",
              "    }\n",
              "  </style>\n",
              "\n",
              "    <script>\n",
              "      const buttonEl =\n",
              "        document.querySelector('#df-49c96a24-d046-4de5-b27a-94a31396b5ba button.colab-df-convert');\n",
              "      buttonEl.style.display =\n",
              "        google.colab.kernel.accessAllowed ? 'block' : 'none';\n",
              "\n",
              "      async function convertToInteractive(key) {\n",
              "        const element = document.querySelector('#df-49c96a24-d046-4de5-b27a-94a31396b5ba');\n",
              "        const dataTable =\n",
              "          await google.colab.kernel.invokeFunction('convertToInteractive',\n",
              "                                                    [key], {});\n",
              "        if (!dataTable) return;\n",
              "\n",
              "        const docLinkHtml = 'Like what you see? Visit the ' +\n",
              "          '<a target=\"_blank\" href=https://colab.research.google.com/notebooks/data_table.ipynb>data table notebook</a>'\n",
              "          + ' to learn more about interactive tables.';\n",
              "        element.innerHTML = '';\n",
              "        dataTable['output_type'] = 'display_data';\n",
              "        await google.colab.output.renderOutput(dataTable, element);\n",
              "        const docLink = document.createElement('div');\n",
              "        docLink.innerHTML = docLinkHtml;\n",
              "        element.appendChild(docLink);\n",
              "      }\n",
              "    </script>\n",
              "  </div>\n",
              "\n",
              "\n",
              "<div id=\"df-4d987106-fb72-49ef-a020-d1146c3b7b5e\">\n",
              "  <button class=\"colab-df-quickchart\" onclick=\"quickchart('df-4d987106-fb72-49ef-a020-d1146c3b7b5e')\"\n",
              "            title=\"Suggest charts.\"\n",
              "            style=\"display:none;\">\n",
              "\n",
              "<svg xmlns=\"http://www.w3.org/2000/svg\" height=\"24px\"viewBox=\"0 0 24 24\"\n",
              "     width=\"24px\">\n",
              "    <g>\n",
              "        <path d=\"M19 3H5c-1.1 0-2 .9-2 2v14c0 1.1.9 2 2 2h14c1.1 0 2-.9 2-2V5c0-1.1-.9-2-2-2zM9 17H7v-7h2v7zm4 0h-2V7h2v10zm4 0h-2v-4h2v4z\"/>\n",
              "    </g>\n",
              "</svg>\n",
              "  </button>\n",
              "\n",
              "<style>\n",
              "  .colab-df-quickchart {\n",
              "      --bg-color: #E8F0FE;\n",
              "      --fill-color: #1967D2;\n",
              "      --hover-bg-color: #E2EBFA;\n",
              "      --hover-fill-color: #174EA6;\n",
              "      --disabled-fill-color: #AAA;\n",
              "      --disabled-bg-color: #DDD;\n",
              "  }\n",
              "\n",
              "  [theme=dark] .colab-df-quickchart {\n",
              "      --bg-color: #3B4455;\n",
              "      --fill-color: #D2E3FC;\n",
              "      --hover-bg-color: #434B5C;\n",
              "      --hover-fill-color: #FFFFFF;\n",
              "      --disabled-bg-color: #3B4455;\n",
              "      --disabled-fill-color: #666;\n",
              "  }\n",
              "\n",
              "  .colab-df-quickchart {\n",
              "    background-color: var(--bg-color);\n",
              "    border: none;\n",
              "    border-radius: 50%;\n",
              "    cursor: pointer;\n",
              "    display: none;\n",
              "    fill: var(--fill-color);\n",
              "    height: 32px;\n",
              "    padding: 0;\n",
              "    width: 32px;\n",
              "  }\n",
              "\n",
              "  .colab-df-quickchart:hover {\n",
              "    background-color: var(--hover-bg-color);\n",
              "    box-shadow: 0 1px 2px rgba(60, 64, 67, 0.3), 0 1px 3px 1px rgba(60, 64, 67, 0.15);\n",
              "    fill: var(--button-hover-fill-color);\n",
              "  }\n",
              "\n",
              "  .colab-df-quickchart-complete:disabled,\n",
              "  .colab-df-quickchart-complete:disabled:hover {\n",
              "    background-color: var(--disabled-bg-color);\n",
              "    fill: var(--disabled-fill-color);\n",
              "    box-shadow: none;\n",
              "  }\n",
              "\n",
              "  .colab-df-spinner {\n",
              "    border: 2px solid var(--fill-color);\n",
              "    border-color: transparent;\n",
              "    border-bottom-color: var(--fill-color);\n",
              "    animation:\n",
              "      spin 1s steps(1) infinite;\n",
              "  }\n",
              "\n",
              "  @keyframes spin {\n",
              "    0% {\n",
              "      border-color: transparent;\n",
              "      border-bottom-color: var(--fill-color);\n",
              "      border-left-color: var(--fill-color);\n",
              "    }\n",
              "    20% {\n",
              "      border-color: transparent;\n",
              "      border-left-color: var(--fill-color);\n",
              "      border-top-color: var(--fill-color);\n",
              "    }\n",
              "    30% {\n",
              "      border-color: transparent;\n",
              "      border-left-color: var(--fill-color);\n",
              "      border-top-color: var(--fill-color);\n",
              "      border-right-color: var(--fill-color);\n",
              "    }\n",
              "    40% {\n",
              "      border-color: transparent;\n",
              "      border-right-color: var(--fill-color);\n",
              "      border-top-color: var(--fill-color);\n",
              "    }\n",
              "    60% {\n",
              "      border-color: transparent;\n",
              "      border-right-color: var(--fill-color);\n",
              "    }\n",
              "    80% {\n",
              "      border-color: transparent;\n",
              "      border-right-color: var(--fill-color);\n",
              "      border-bottom-color: var(--fill-color);\n",
              "    }\n",
              "    90% {\n",
              "      border-color: transparent;\n",
              "      border-bottom-color: var(--fill-color);\n",
              "    }\n",
              "  }\n",
              "</style>\n",
              "\n",
              "  <script>\n",
              "    async function quickchart(key) {\n",
              "      const quickchartButtonEl =\n",
              "        document.querySelector('#' + key + ' button');\n",
              "      quickchartButtonEl.disabled = true;  // To prevent multiple clicks.\n",
              "      quickchartButtonEl.classList.add('colab-df-spinner');\n",
              "      try {\n",
              "        const charts = await google.colab.kernel.invokeFunction(\n",
              "            'suggestCharts', [key], {});\n",
              "      } catch (error) {\n",
              "        console.error('Error during call to suggestCharts:', error);\n",
              "      }\n",
              "      quickchartButtonEl.classList.remove('colab-df-spinner');\n",
              "      quickchartButtonEl.classList.add('colab-df-quickchart-complete');\n",
              "    }\n",
              "    (() => {\n",
              "      let quickchartButtonEl =\n",
              "        document.querySelector('#df-4d987106-fb72-49ef-a020-d1146c3b7b5e button');\n",
              "      quickchartButtonEl.style.display =\n",
              "        google.colab.kernel.accessAllowed ? 'block' : 'none';\n",
              "    })();\n",
              "  </script>\n",
              "</div>\n",
              "    </div>\n",
              "  </div>\n"
            ]
          },
          "metadata": {},
          "execution_count": 15
        }
      ]
    },
    {
      "cell_type": "code",
      "source": [
        "'''\n",
        "combined_data.to_csv('/content/gdrive/MyDrive/MAIC2023_공모전/MAIC_child_train_preprocessed.csv', index=False)\n",
        "combined_valid.to_csv('/content/gdrive/MyDrive/MAIC2023_공모전/MAIC_child_valid_preprocessed.csv', index=False)\n",
        "'''"
      ],
      "metadata": {
        "id": "RWDcgmJX4cow",
        "colab": {
          "base_uri": "https://localhost:8080/",
          "height": 35
        },
        "outputId": "d803fd2e-649a-4ee8-cff7-dadb893b169d"
      },
      "execution_count": null,
      "outputs": [
        {
          "output_type": "execute_result",
          "data": {
            "text/plain": [
              "\"\\ncombined_data.to_csv('/content/gdrive/MyDrive/MAIC2023_공모전/MAIC_child_train_preprocessed.csv', index=False)\\ncombined_valid.to_csv('/content/gdrive/MyDrive/MAIC2023_공모전/MAIC_child_valid_preprocessed.csv', index=False)\\n\""
            ],
            "application/vnd.google.colaboratory.intrinsic+json": {
              "type": "string"
            }
          },
          "metadata": {},
          "execution_count": 49
        }
      ]
    },
    {
      "cell_type": "markdown",
      "source": [
        "#ECG 데이터 shape 확인"
      ],
      "metadata": {
        "id": "X3eTNUtY1Rn2"
      }
    },
    {
      "cell_type": "code",
      "source": [
        "'''\n",
        "import numpy as np\n",
        "\n",
        "# .npy 파일 경로 지정\n",
        "npy_file_path = '/content/gdrive/MyDrive/MAIC2023_공모전/ecg_adult_20000.npy'  # 실제 파일 경로로 변경하세요.\n",
        "\n",
        "# 넘파이 배열로 .npy 파일 로드\n",
        "loaded_data = np.load(npy_file_path)\n",
        "\n",
        "# 로드한 데이터 사용 예제\n",
        "print(\"로드한 데이터의 크기:\", loaded_data.shape)\n",
        "print(\"로드한 데이터 내용:\\n\", loaded_data)\n",
        "'''"
      ],
      "metadata": {
        "colab": {
          "base_uri": "https://localhost:8080/"
        },
        "id": "Wa_aDZacHQDO",
        "outputId": "fc3e19c8-3174-4883-ed90-a15a5de7424f"
      },
      "execution_count": null,
      "outputs": [
        {
          "output_type": "execute_result",
          "data": {
            "text/plain": [
              "'\\nimport numpy as np\\n\\n# .npy 파일 경로 지정\\nnpy_file_path = \\'/content/gdrive/MyDrive/MAIC2023_공모전/ecg_adult_20000.npy\\'  # 실제 파일 경로로 변경하세요.\\n\\n# 넘파이 배열로 .npy 파일 로드\\nloaded_data = np.load(npy_file_path)\\n\\n# 로드한 데이터 사용 예제\\nprint(\"로드한 데이터의 크기:\", loaded_data.shape)\\nprint(\"로드한 데이터 내용:\\n\", loaded_data)\\n'"
            ],
            "application/vnd.google.colaboratory.intrinsic+json": {
              "type": "string"
            }
          },
          "metadata": {},
          "execution_count": 50
        }
      ]
    },
    {
      "cell_type": "code",
      "source": [
        "'''\n",
        "reshape1 = loaded_data.reshape((5000, 12))\n",
        "print(reshape1.shape)\n",
        "\n",
        "reshape2 = loaded_data.reshape(5000, 12)\n",
        "print(reshape2.shape)\n",
        "'''"
      ],
      "metadata": {
        "colab": {
          "base_uri": "https://localhost:8080/"
        },
        "id": "BbN9J7uOkxWG",
        "outputId": "209350d0-8de2-499a-c3f8-693cc305f7bb"
      },
      "execution_count": null,
      "outputs": [
        {
          "output_type": "execute_result",
          "data": {
            "text/plain": [
              "'\\nreshape1 = loaded_data.reshape((5000, 12))\\nprint(reshape1.shape)\\n\\nreshape2 = loaded_data.reshape(5000, 12)\\nprint(reshape2.shape)\\n'"
            ],
            "application/vnd.google.colaboratory.intrinsic+json": {
              "type": "string"
            }
          },
          "metadata": {},
          "execution_count": 51
        }
      ]
    },
    {
      "cell_type": "markdown",
      "source": [
        "#ECG 데이터 (5000, 12)로 reshape"
      ],
      "metadata": {
        "id": "wXHHpcMi1W-F"
      }
    },
    {
      "cell_type": "code",
      "source": [
        "'''\n",
        "import os\n",
        "import numpy as np\n",
        "\n",
        "# 데이터가 있는 디렉토리 경로\n",
        "data_dir = '/content/gdrive/MyDrive/MAIC2023_공모전/'\n",
        "\n",
        "# .npy 파일을 (5000, 12)의 shape로 재배열하고 덮어쓰기 모드로 저장하는 함수\n",
        "def reshape_and_overwrite_npy_file(file_path):\n",
        "    npy_data = np.load(file_path)\n",
        "\n",
        "    # 원하는 형태인 (5000, 12)로 데이터를 재배열\n",
        "    reshaped_data = npy_data.reshape((5000, 12))\n",
        "\n",
        "    # 같은 파일에 덮어쓰기 모드로 저장\n",
        "    np.save(file_path, reshaped_data)\n",
        "\n",
        "# 주어진 디렉토리에서 모든 .npy 파일을 찾아 재배열하고 덮어쓰기 모드로 저장\n",
        "for file_name in os.listdir(data_dir):\n",
        "    if file_name.endswith('.npy'):\n",
        "        file_path = os.path.join(data_dir, file_name)\n",
        "        reshape_and_overwrite_npy_file(file_path)\n",
        "\n",
        "print(\"모든 .npy 파일을 (5000, 12)의 shape로 재배열하여 기존 파일을 덮어썼습니다.\")\n",
        "'''"
      ],
      "metadata": {
        "id": "TLEk3GXILe8e",
        "colab": {
          "base_uri": "https://localhost:8080/"
        },
        "outputId": "a454f010-6cc9-4cf1-f0e4-6d43a23e8ea2"
      },
      "execution_count": null,
      "outputs": [
        {
          "output_type": "execute_result",
          "data": {
            "text/plain": [
              "'\\nimport os\\nimport numpy as np\\n\\n# 데이터가 있는 디렉토리 경로\\ndata_dir = \\'/content/gdrive/MyDrive/MAIC2023_공모전/\\'\\n\\n# .npy 파일을 (5000, 12)의 shape로 재배열하고 덮어쓰기 모드로 저장하는 함수\\ndef reshape_and_overwrite_npy_file(file_path):\\n    npy_data = np.load(file_path)\\n\\n    # 원하는 형태인 (5000, 12)로 데이터를 재배열\\n    reshaped_data = npy_data.reshape((5000, 12))\\n\\n    # 같은 파일에 덮어쓰기 모드로 저장\\n    np.save(file_path, reshaped_data)\\n\\n# 주어진 디렉토리에서 모든 .npy 파일을 찾아 재배열하고 덮어쓰기 모드로 저장\\nfor file_name in os.listdir(data_dir):\\n    if file_name.endswith(\\'.npy\\'):\\n        file_path = os.path.join(data_dir, file_name)\\n        reshape_and_overwrite_npy_file(file_path)\\n\\nprint(\"모든 .npy 파일을 (5000, 12)의 shape로 재배열하여 기존 파일을 덮어썼습니다.\")\\n'"
            ],
            "application/vnd.google.colaboratory.intrinsic+json": {
              "type": "string"
            }
          },
          "metadata": {},
          "execution_count": 52
        }
      ]
    },
    {
      "cell_type": "code",
      "source": [
        "'''\n",
        "# .npy 파일 경로 지정\n",
        "npy_file_path = '/content/gdrive/MyDrive/MAIC2023_공모전/ecg_adult_19618.npy'  # 실제 파일 경로로 변경하세요.\n",
        "\n",
        "# 넘파이 배열로 .npy 파일 로드\n",
        "loaded_data = np.load(npy_file_path)\n",
        "\n",
        "# 로드한 데이터 사용 예제\n",
        "print(\"로드한 데이터의 크기:\", loaded_data.shape)\n",
        "print(\"로드한 데이터 내용:\\n\", loaded_data)\n",
        "'''"
      ],
      "metadata": {
        "id": "pB9mHP7PdAdE",
        "colab": {
          "base_uri": "https://localhost:8080/"
        },
        "outputId": "2d9c39ce-fc46-4b80-9456-e7adebfcd83f"
      },
      "execution_count": null,
      "outputs": [
        {
          "output_type": "execute_result",
          "data": {
            "text/plain": [
              "'\\n# .npy 파일 경로 지정\\nnpy_file_path = \\'/content/gdrive/MyDrive/MAIC2023_공모전/ecg_adult_19618.npy\\'  # 실제 파일 경로로 변경하세요.\\n\\n# 넘파이 배열로 .npy 파일 로드\\nloaded_data = np.load(npy_file_path)\\n\\n# 로드한 데이터 사용 예제\\nprint(\"로드한 데이터의 크기:\", loaded_data.shape)\\nprint(\"로드한 데이터 내용:\\n\", loaded_data)\\n'"
            ],
            "application/vnd.google.colaboratory.intrinsic+json": {
              "type": "string"
            }
          },
          "metadata": {},
          "execution_count": 53
        }
      ]
    },
    {
      "cell_type": "markdown",
      "source": [
        "#child_train 데이터와 ecg 데이터 연결"
      ],
      "metadata": {
        "id": "f5N0152y1oqe"
      }
    },
    {
      "cell_type": "code",
      "source": [
        "'''\n",
        "import numpy as np\n",
        "import pandas as pd\n",
        "import os\n",
        "\n",
        "# CSV 파일 로드\n",
        "csv_file_path = '/content/gdrive/MyDrive/MAIC2023_공모전/ECG_child_age_train.csv'\n",
        "csv_data = pd.read_csv(csv_file_path)\n",
        "\n",
        "# .npy 파일 로드 및 연결\n",
        "data_dir = '/content/gdrive/MyDrive/MAIC2023_공모전/'  # .npy 파일이 있는 디렉토리\n",
        "ecg_data = []\n",
        "\n",
        "for index, row in csv_data.iterrows():\n",
        "    file_name = row['FILENAME']\n",
        "    file_path = os.path.join(data_dir, f'{file_name}.npy')\n",
        "\n",
        "    # .npy 파일 로드\n",
        "    ecg_signal = np.load(file_path)\n",
        "\n",
        "    # 'AGE'와 'GENDER' 컬럼을 추가하여 연결\n",
        "    ecg_data.append([file_name, ecg_signal, row['GENDER'], row['AGE']])\n",
        "\n",
        "# 연결된 데이터를 데이터프레임으로 변환\n",
        "combined_data = pd.DataFrame(ecg_data, columns=['FILENAME', 'ECG_SIGNAL', 'GENDER', 'AGE'])\n",
        "'''"
      ],
      "metadata": {
        "id": "cApDMigGtg5w",
        "colab": {
          "base_uri": "https://localhost:8080/"
        },
        "outputId": "a80e7a0d-3238-4ebd-aea2-5c38a45eff67"
      },
      "execution_count": null,
      "outputs": [
        {
          "output_type": "execute_result",
          "data": {
            "text/plain": [
              "\"\\nimport numpy as np\\nimport pandas as pd\\nimport os\\n\\n# CSV 파일 로드\\ncsv_file_path = '/content/gdrive/MyDrive/MAIC2023_공모전/ECG_child_age_train.csv'\\ncsv_data = pd.read_csv(csv_file_path)\\n\\n# .npy 파일 로드 및 연결\\ndata_dir = '/content/gdrive/MyDrive/MAIC2023_공모전/'  # .npy 파일이 있는 디렉토리\\necg_data = []\\n\\nfor index, row in csv_data.iterrows():\\n    file_name = row['FILENAME']\\n    file_path = os.path.join(data_dir, f'{file_name}.npy')\\n\\n    # .npy 파일 로드\\n    ecg_signal = np.load(file_path)\\n\\n    # 'AGE'와 'GENDER' 컬럼을 추가하여 연결\\n    ecg_data.append([file_name, ecg_signal, row['GENDER'], row['AGE']])\\n\\n# 연결된 데이터를 데이터프레임으로 변환\\ncombined_data = pd.DataFrame(ecg_data, columns=['FILENAME', 'ECG_SIGNAL', 'GENDER', 'AGE'])\\n\""
            ],
            "application/vnd.google.colaboratory.intrinsic+json": {
              "type": "string"
            }
          },
          "metadata": {},
          "execution_count": 54
        }
      ]
    },
    {
      "cell_type": "code",
      "source": [
        "#combined_data"
      ],
      "metadata": {
        "id": "wBT0NZwkwRce"
      },
      "execution_count": null,
      "outputs": []
    },
    {
      "cell_type": "code",
      "source": [
        "'''\n",
        "def convert_to_tuple(arr):\n",
        "    return tuple(arr)\n",
        "\n",
        "# 'ECG_SIGNAL' 열의 각 요소를 튜플로 변환\n",
        "combined_data['ECG_SIGNAL'] = combined_data['ECG_SIGNAL'].apply(convert_to_tuple)\n",
        "'''"
      ],
      "metadata": {
        "id": "ZT4fLVVj7N_a",
        "colab": {
          "base_uri": "https://localhost:8080/"
        },
        "outputId": "5d5b5cd7-8adb-41da-b470-0093a3ef2f8f"
      },
      "execution_count": null,
      "outputs": [
        {
          "output_type": "execute_result",
          "data": {
            "text/plain": [
              "\"\\ndef convert_to_tuple(arr):\\n    return tuple(arr)\\n\\n# 'ECG_SIGNAL' 열의 각 요소를 튜플로 변환\\ncombined_data['ECG_SIGNAL'] = combined_data['ECG_SIGNAL'].apply(convert_to_tuple)\\n\""
            ],
            "application/vnd.google.colaboratory.intrinsic+json": {
              "type": "string"
            }
          },
          "metadata": {},
          "execution_count": 56
        }
      ]
    },
    {
      "cell_type": "code",
      "source": [
        "#combined_data"
      ],
      "metadata": {
        "id": "7g2KWQTj7Uis"
      },
      "execution_count": null,
      "outputs": []
    },
    {
      "cell_type": "markdown",
      "source": [
        "#adult_train 데이터와 ecg 데이터 연결"
      ],
      "metadata": {
        "id": "wYAMRK3p2AZd"
      }
    },
    {
      "cell_type": "code",
      "source": [
        "'''\n",
        "# CSV 파일 로드\n",
        "csv_file_path2 = '/content/gdrive/MyDrive/MAIC2023_공모전/ECG_adult_age_train.csv'\n",
        "csv_data2 = pd.read_csv(csv_file_path2)\n",
        "\n",
        "# .npy 파일 로드 및 연결\n",
        "data_dir = '/content/gdrive/MyDrive/MAIC2023_공모전/'  # .npy 파일이 있는 디렉토리\n",
        "ecg_data2 = []\n",
        "\n",
        "for index, row in csv_data2.iterrows():\n",
        "    file_name = row['FILENAME']\n",
        "    file_path = os.path.join(data_dir, f'{file_name}.npy')\n",
        "\n",
        "    # .npy 파일 로드\n",
        "    ecg_signal = np.load(file_path)\n",
        "\n",
        "    # 'AGE'와 'GENDER' 컬럼을 추가하여 연결\n",
        "    ecg_data2.append([file_name, ecg_signal, row['GENDER'], row['AGE']])\n",
        "\n",
        "# 연결된 데이터를 데이터프레임으로 변환\n",
        "combined_data2 = pd.DataFrame(ecg_data2, columns=['FILENAME', 'ECG_SIGNAL', 'GENDER', 'AGE'])\n",
        "'''"
      ],
      "metadata": {
        "id": "3nBGD06zwWEJ",
        "colab": {
          "base_uri": "https://localhost:8080/"
        },
        "outputId": "dfbd876e-8319-4c39-f57f-389a36e6f599"
      },
      "execution_count": null,
      "outputs": [
        {
          "output_type": "execute_result",
          "data": {
            "text/plain": [
              "\"\\n# CSV 파일 로드\\ncsv_file_path2 = '/content/gdrive/MyDrive/MAIC2023_공모전/ECG_adult_age_train.csv'\\ncsv_data2 = pd.read_csv(csv_file_path2)\\n\\n# .npy 파일 로드 및 연결\\ndata_dir = '/content/gdrive/MyDrive/MAIC2023_공모전/'  # .npy 파일이 있는 디렉토리\\necg_data2 = []\\n\\nfor index, row in csv_data2.iterrows():\\n    file_name = row['FILENAME']\\n    file_path = os.path.join(data_dir, f'{file_name}.npy')\\n\\n    # .npy 파일 로드\\n    ecg_signal = np.load(file_path)\\n\\n    # 'AGE'와 'GENDER' 컬럼을 추가하여 연결\\n    ecg_data2.append([file_name, ecg_signal, row['GENDER'], row['AGE']])\\n\\n# 연결된 데이터를 데이터프레임으로 변환\\ncombined_data2 = pd.DataFrame(ecg_data2, columns=['FILENAME', 'ECG_SIGNAL', 'GENDER', 'AGE'])\\n\""
            ],
            "application/vnd.google.colaboratory.intrinsic+json": {
              "type": "string"
            }
          },
          "metadata": {},
          "execution_count": 58
        }
      ]
    },
    {
      "cell_type": "code",
      "source": [
        "#combined_data2"
      ],
      "metadata": {
        "id": "l6KZkKpbw3uk"
      },
      "execution_count": null,
      "outputs": []
    },
    {
      "cell_type": "markdown",
      "source": [
        "#AutoML"
      ],
      "metadata": {
        "id": "S1wcNuK0rxuq"
      }
    },
    {
      "cell_type": "code",
      "source": [
        "'''\n",
        "# PyCaret 라이브러리 설치\n",
        "!pip install pycaret\n",
        "'''"
      ],
      "metadata": {
        "id": "Fq9Fvaul8Phb",
        "colab": {
          "base_uri": "https://localhost:8080/"
        },
        "outputId": "ae49a1c4-2f17-4639-9a2f-25362b1b5d22"
      },
      "execution_count": null,
      "outputs": [
        {
          "output_type": "execute_result",
          "data": {
            "text/plain": [
              "'\\n# PyCaret 라이브러리 설치\\n!pip install pycaret\\n'"
            ],
            "application/vnd.google.colaboratory.intrinsic+json": {
              "type": "string"
            }
          },
          "metadata": {},
          "execution_count": 60
        }
      ]
    },
    {
      "cell_type": "code",
      "source": [
        "# PyCaret 및 필요한 모듈 가져오기\n",
        "'''\n",
        "from pycaret.classification import *\n",
        "import pandas as pd\n",
        "\n",
        "reg_test_1 = setup(data=combined_data,\n",
        "                   target='AGE',\n",
        "                   train_size= 0.8,\n",
        "                   fold=5,\n",
        "                   categorical_features=['GENDER'])\n",
        "'''"
      ],
      "metadata": {
        "colab": {
          "base_uri": "https://localhost:8080/"
        },
        "id": "udbwR0hu2zfF",
        "outputId": "2a2712fb-586d-4223-d8e3-76694fdd6935"
      },
      "execution_count": null,
      "outputs": [
        {
          "output_type": "execute_result",
          "data": {
            "text/plain": [
              "\"\\nfrom pycaret.classification import *\\nimport pandas as pd\\n\\nreg_test_1 = setup(data=combined_data,\\n                   target='AGE',\\n                   train_size= 0.8,\\n                   fold=5,\\n                   categorical_features=['GENDER'])\\n\""
            ],
            "application/vnd.google.colaboratory.intrinsic+json": {
              "type": "string"
            }
          },
          "metadata": {},
          "execution_count": 61
        }
      ]
    },
    {
      "cell_type": "code",
      "source": [
        "#best = compare_models(sort='mse')"
      ],
      "metadata": {
        "id": "3US5I1wS5JD1"
      },
      "execution_count": null,
      "outputs": []
    },
    {
      "cell_type": "code",
      "source": [
        "#best_tune = tune_model(best)"
      ],
      "metadata": {
        "id": "DsPrZAoJ5Z2S"
      },
      "execution_count": null,
      "outputs": []
    },
    {
      "cell_type": "code",
      "source": [
        "#evaluate_model(best_tune)"
      ],
      "metadata": {
        "id": "UtIHKXU35awR"
      },
      "execution_count": null,
      "outputs": []
    },
    {
      "cell_type": "markdown",
      "source": [
        "#LSTM 모델"
      ],
      "metadata": {
        "id": "kVPG1RWv3plP"
      }
    },
    {
      "cell_type": "code",
      "source": [
        "combined_data = combined_data.sample(frac=0.1)"
      ],
      "metadata": {
        "id": "40w2ZXhI3yCK"
      },
      "execution_count": null,
      "outputs": []
    },
    {
      "cell_type": "code",
      "source": [
        "combined_data2 = combined_data2.sample(frac=0.1)"
      ],
      "metadata": {
        "id": "ol9F_Mt5Kuqz"
      },
      "execution_count": null,
      "outputs": []
    },
    {
      "cell_type": "code",
      "source": [
        "combined_data.isnull().any()"
      ],
      "metadata": {
        "id": "YF-ljfmFUblq",
        "colab": {
          "base_uri": "https://localhost:8080/"
        },
        "outputId": "5dacaef0-37dc-441d-a714-c8af69a6ccd2"
      },
      "execution_count": null,
      "outputs": [
        {
          "output_type": "execute_result",
          "data": {
            "text/plain": [
              "FILENAME      False\n",
              "GENDER        False\n",
              "AGE           False\n",
              "ECG_SIGNAL    False\n",
              "dtype: bool"
            ]
          },
          "metadata": {},
          "execution_count": 66
        }
      ]
    },
    {
      "cell_type": "code",
      "source": [
        "#combined_valid.isnull().any()"
      ],
      "metadata": {
        "colab": {
          "base_uri": "https://localhost:8080/"
        },
        "id": "MyLNsV1pvtbd",
        "outputId": "008dadea-b431-40ec-b368-1dfcd4f74fff"
      },
      "execution_count": null,
      "outputs": [
        {
          "output_type": "execute_result",
          "data": {
            "text/plain": [
              "FILENAME      False\n",
              "GENDER        False\n",
              "AGE            True\n",
              "ECG_SIGNAL    False\n",
              "dtype: bool"
            ]
          },
          "metadata": {},
          "execution_count": 67
        }
      ]
    },
    {
      "cell_type": "code",
      "source": [
        "from sklearn.preprocessing import MinMaxScaler\n",
        "from tensorflow.keras.models import Sequential\n",
        "from tensorflow.keras.layers import LSTM, Dense\n",
        "from tensorflow.keras.optimizers import Adam\n",
        "\n",
        "# 데이터 병합\n",
        "#combined_data = pd.concat([ECG_child_age_train, ECG_adult_age_train], ignore_index=True)\n",
        "\n",
        "# 'ECG_SIGNAL' 열의 넘파이 배열로 변환\n",
        "#combined_data['ECG_SIGNAL'] = combined_data['ECG_SIGNAL'].apply(eval)\n",
        "\n",
        "# 'AGE' 컬럼의 결측값을 0으로 채우기 (또는 원하는 처리 방법으로 대체)\n",
        "combined_data['AGE'].fillna(0, inplace=True)\n",
        "\n",
        "# 'ECG_SIGNAL' 데이터 정규화\n",
        "scaler = MinMaxScaler()\n",
        "combined_data['ECG_SIGNAL'] = combined_data['ECG_SIGNAL'].apply(lambda x: scaler.fit_transform(np.array(x).reshape(-1, 1)))\n",
        "\n",
        "# 시계열 데이터를 학습 가능한 형태로 변환\n",
        "X = np.array(combined_data['ECG_SIGNAL'].tolist())\n",
        "y = combined_data['AGE'].values\n",
        "\n",
        "# LSTM 모델 정의\n",
        "model = Sequential()\n",
        "model.add(LSTM(50, activation='tanh', input_shape=(X.shape[1], X.shape[2])))\n",
        "model.add(Dense(1))\n",
        "\n",
        "# 모델 컴파일\n",
        "model.compile(optimizer=Adam(learning_rate=0.001), loss='mean_squared_error')\n",
        "\n",
        "# LSTM 모델 학습\n",
        "model.fit(X, y, epochs=10, batch_size=32)\n",
        "\n",
        "# 모델 저장\n",
        "model.save(\"/content/gdrive/MyDrive/MAIC2023_공모전/my_model.h5\")"
      ],
      "metadata": {
        "id": "21D7nsL6Xtmx",
        "colab": {
          "base_uri": "https://localhost:8080/",
          "height": 520
        },
        "outputId": "b943e59a-0042-4c33-da8d-24fd9b9a9ff5"
      },
      "execution_count": null,
      "outputs": [
        {
          "output_type": "stream",
          "name": "stdout",
          "text": [
            "Epoch 1/10\n",
            "112/112 [==============================] - 148s 1s/step - loss: 3060.0427\n",
            "Epoch 2/10\n",
            "112/112 [==============================] - 147s 1s/step - loss: 2252.3792\n",
            "Epoch 3/10\n",
            " 86/112 [======================>.......] - ETA: 34s - loss: 1833.3311"
          ]
        },
        {
          "output_type": "error",
          "ename": "KeyboardInterrupt",
          "evalue": "ignored",
          "traceback": [
            "\u001b[0;31m---------------------------------------------------------------------------\u001b[0m",
            "\u001b[0;31mKeyboardInterrupt\u001b[0m                         Traceback (most recent call last)",
            "\u001b[0;32m<ipython-input-68-e4ab7512ba16>\u001b[0m in \u001b[0;36m<cell line: 32>\u001b[0;34m()\u001b[0m\n\u001b[1;32m     30\u001b[0m \u001b[0;34m\u001b[0m\u001b[0m\n\u001b[1;32m     31\u001b[0m \u001b[0;31m# LSTM 모델 학습\u001b[0m\u001b[0;34m\u001b[0m\u001b[0;34m\u001b[0m\u001b[0m\n\u001b[0;32m---> 32\u001b[0;31m \u001b[0mmodel\u001b[0m\u001b[0;34m.\u001b[0m\u001b[0mfit\u001b[0m\u001b[0;34m(\u001b[0m\u001b[0mX\u001b[0m\u001b[0;34m,\u001b[0m \u001b[0my\u001b[0m\u001b[0;34m,\u001b[0m \u001b[0mepochs\u001b[0m\u001b[0;34m=\u001b[0m\u001b[0;36m10\u001b[0m\u001b[0;34m,\u001b[0m \u001b[0mbatch_size\u001b[0m\u001b[0;34m=\u001b[0m\u001b[0;36m32\u001b[0m\u001b[0;34m)\u001b[0m\u001b[0;34m\u001b[0m\u001b[0;34m\u001b[0m\u001b[0m\n\u001b[0m\u001b[1;32m     33\u001b[0m \u001b[0;34m\u001b[0m\u001b[0m\n\u001b[1;32m     34\u001b[0m \u001b[0;31m# 모델 저장\u001b[0m\u001b[0;34m\u001b[0m\u001b[0;34m\u001b[0m\u001b[0m\n",
            "\u001b[0;32m/usr/local/lib/python3.10/dist-packages/keras/src/utils/traceback_utils.py\u001b[0m in \u001b[0;36merror_handler\u001b[0;34m(*args, **kwargs)\u001b[0m\n\u001b[1;32m     63\u001b[0m         \u001b[0mfiltered_tb\u001b[0m \u001b[0;34m=\u001b[0m \u001b[0;32mNone\u001b[0m\u001b[0;34m\u001b[0m\u001b[0;34m\u001b[0m\u001b[0m\n\u001b[1;32m     64\u001b[0m         \u001b[0;32mtry\u001b[0m\u001b[0;34m:\u001b[0m\u001b[0;34m\u001b[0m\u001b[0;34m\u001b[0m\u001b[0m\n\u001b[0;32m---> 65\u001b[0;31m             \u001b[0;32mreturn\u001b[0m \u001b[0mfn\u001b[0m\u001b[0;34m(\u001b[0m\u001b[0;34m*\u001b[0m\u001b[0margs\u001b[0m\u001b[0;34m,\u001b[0m \u001b[0;34m**\u001b[0m\u001b[0mkwargs\u001b[0m\u001b[0;34m)\u001b[0m\u001b[0;34m\u001b[0m\u001b[0;34m\u001b[0m\u001b[0m\n\u001b[0m\u001b[1;32m     66\u001b[0m         \u001b[0;32mexcept\u001b[0m \u001b[0mException\u001b[0m \u001b[0;32mas\u001b[0m \u001b[0me\u001b[0m\u001b[0;34m:\u001b[0m\u001b[0;34m\u001b[0m\u001b[0;34m\u001b[0m\u001b[0m\n\u001b[1;32m     67\u001b[0m             \u001b[0mfiltered_tb\u001b[0m \u001b[0;34m=\u001b[0m \u001b[0m_process_traceback_frames\u001b[0m\u001b[0;34m(\u001b[0m\u001b[0me\u001b[0m\u001b[0;34m.\u001b[0m\u001b[0m__traceback__\u001b[0m\u001b[0;34m)\u001b[0m\u001b[0;34m\u001b[0m\u001b[0;34m\u001b[0m\u001b[0m\n",
            "\u001b[0;32m/usr/local/lib/python3.10/dist-packages/keras/src/engine/training.py\u001b[0m in \u001b[0;36mfit\u001b[0;34m(self, x, y, batch_size, epochs, verbose, callbacks, validation_split, validation_data, shuffle, class_weight, sample_weight, initial_epoch, steps_per_epoch, validation_steps, validation_batch_size, validation_freq, max_queue_size, workers, use_multiprocessing)\u001b[0m\n\u001b[1;32m   1740\u001b[0m                         ):\n\u001b[1;32m   1741\u001b[0m                             \u001b[0mcallbacks\u001b[0m\u001b[0;34m.\u001b[0m\u001b[0mon_train_batch_begin\u001b[0m\u001b[0;34m(\u001b[0m\u001b[0mstep\u001b[0m\u001b[0;34m)\u001b[0m\u001b[0;34m\u001b[0m\u001b[0;34m\u001b[0m\u001b[0m\n\u001b[0;32m-> 1742\u001b[0;31m                             \u001b[0mtmp_logs\u001b[0m \u001b[0;34m=\u001b[0m \u001b[0mself\u001b[0m\u001b[0;34m.\u001b[0m\u001b[0mtrain_function\u001b[0m\u001b[0;34m(\u001b[0m\u001b[0miterator\u001b[0m\u001b[0;34m)\u001b[0m\u001b[0;34m\u001b[0m\u001b[0;34m\u001b[0m\u001b[0m\n\u001b[0m\u001b[1;32m   1743\u001b[0m                             \u001b[0;32mif\u001b[0m \u001b[0mdata_handler\u001b[0m\u001b[0;34m.\u001b[0m\u001b[0mshould_sync\u001b[0m\u001b[0;34m:\u001b[0m\u001b[0;34m\u001b[0m\u001b[0;34m\u001b[0m\u001b[0m\n\u001b[1;32m   1744\u001b[0m                                 \u001b[0mcontext\u001b[0m\u001b[0;34m.\u001b[0m\u001b[0masync_wait\u001b[0m\u001b[0;34m(\u001b[0m\u001b[0;34m)\u001b[0m\u001b[0;34m\u001b[0m\u001b[0;34m\u001b[0m\u001b[0m\n",
            "\u001b[0;32m/usr/local/lib/python3.10/dist-packages/tensorflow/python/util/traceback_utils.py\u001b[0m in \u001b[0;36merror_handler\u001b[0;34m(*args, **kwargs)\u001b[0m\n\u001b[1;32m    148\u001b[0m     \u001b[0mfiltered_tb\u001b[0m \u001b[0;34m=\u001b[0m \u001b[0;32mNone\u001b[0m\u001b[0;34m\u001b[0m\u001b[0;34m\u001b[0m\u001b[0m\n\u001b[1;32m    149\u001b[0m     \u001b[0;32mtry\u001b[0m\u001b[0;34m:\u001b[0m\u001b[0;34m\u001b[0m\u001b[0;34m\u001b[0m\u001b[0m\n\u001b[0;32m--> 150\u001b[0;31m       \u001b[0;32mreturn\u001b[0m \u001b[0mfn\u001b[0m\u001b[0;34m(\u001b[0m\u001b[0;34m*\u001b[0m\u001b[0margs\u001b[0m\u001b[0;34m,\u001b[0m \u001b[0;34m**\u001b[0m\u001b[0mkwargs\u001b[0m\u001b[0;34m)\u001b[0m\u001b[0;34m\u001b[0m\u001b[0;34m\u001b[0m\u001b[0m\n\u001b[0m\u001b[1;32m    151\u001b[0m     \u001b[0;32mexcept\u001b[0m \u001b[0mException\u001b[0m \u001b[0;32mas\u001b[0m \u001b[0me\u001b[0m\u001b[0;34m:\u001b[0m\u001b[0;34m\u001b[0m\u001b[0;34m\u001b[0m\u001b[0m\n\u001b[1;32m    152\u001b[0m       \u001b[0mfiltered_tb\u001b[0m \u001b[0;34m=\u001b[0m \u001b[0m_process_traceback_frames\u001b[0m\u001b[0;34m(\u001b[0m\u001b[0me\u001b[0m\u001b[0;34m.\u001b[0m\u001b[0m__traceback__\u001b[0m\u001b[0;34m)\u001b[0m\u001b[0;34m\u001b[0m\u001b[0;34m\u001b[0m\u001b[0m\n",
            "\u001b[0;32m/usr/local/lib/python3.10/dist-packages/tensorflow/python/eager/polymorphic_function/polymorphic_function.py\u001b[0m in \u001b[0;36m__call__\u001b[0;34m(self, *args, **kwds)\u001b[0m\n\u001b[1;32m    823\u001b[0m \u001b[0;34m\u001b[0m\u001b[0m\n\u001b[1;32m    824\u001b[0m       \u001b[0;32mwith\u001b[0m \u001b[0mOptionalXlaContext\u001b[0m\u001b[0;34m(\u001b[0m\u001b[0mself\u001b[0m\u001b[0;34m.\u001b[0m\u001b[0m_jit_compile\u001b[0m\u001b[0;34m)\u001b[0m\u001b[0;34m:\u001b[0m\u001b[0;34m\u001b[0m\u001b[0;34m\u001b[0m\u001b[0m\n\u001b[0;32m--> 825\u001b[0;31m         \u001b[0mresult\u001b[0m \u001b[0;34m=\u001b[0m \u001b[0mself\u001b[0m\u001b[0;34m.\u001b[0m\u001b[0m_call\u001b[0m\u001b[0;34m(\u001b[0m\u001b[0;34m*\u001b[0m\u001b[0margs\u001b[0m\u001b[0;34m,\u001b[0m \u001b[0;34m**\u001b[0m\u001b[0mkwds\u001b[0m\u001b[0;34m)\u001b[0m\u001b[0;34m\u001b[0m\u001b[0;34m\u001b[0m\u001b[0m\n\u001b[0m\u001b[1;32m    826\u001b[0m \u001b[0;34m\u001b[0m\u001b[0m\n\u001b[1;32m    827\u001b[0m       \u001b[0mnew_tracing_count\u001b[0m \u001b[0;34m=\u001b[0m \u001b[0mself\u001b[0m\u001b[0;34m.\u001b[0m\u001b[0mexperimental_get_tracing_count\u001b[0m\u001b[0;34m(\u001b[0m\u001b[0;34m)\u001b[0m\u001b[0;34m\u001b[0m\u001b[0;34m\u001b[0m\u001b[0m\n",
            "\u001b[0;32m/usr/local/lib/python3.10/dist-packages/tensorflow/python/eager/polymorphic_function/polymorphic_function.py\u001b[0m in \u001b[0;36m_call\u001b[0;34m(self, *args, **kwds)\u001b[0m\n\u001b[1;32m    855\u001b[0m       \u001b[0;31m# In this case we have created variables on the first call, so we run the\u001b[0m\u001b[0;34m\u001b[0m\u001b[0;34m\u001b[0m\u001b[0m\n\u001b[1;32m    856\u001b[0m       \u001b[0;31m# defunned version which is guaranteed to never create variables.\u001b[0m\u001b[0;34m\u001b[0m\u001b[0;34m\u001b[0m\u001b[0m\n\u001b[0;32m--> 857\u001b[0;31m       \u001b[0;32mreturn\u001b[0m \u001b[0mself\u001b[0m\u001b[0;34m.\u001b[0m\u001b[0m_no_variable_creation_fn\u001b[0m\u001b[0;34m(\u001b[0m\u001b[0;34m*\u001b[0m\u001b[0margs\u001b[0m\u001b[0;34m,\u001b[0m \u001b[0;34m**\u001b[0m\u001b[0mkwds\u001b[0m\u001b[0;34m)\u001b[0m  \u001b[0;31m# pylint: disable=not-callable\u001b[0m\u001b[0;34m\u001b[0m\u001b[0;34m\u001b[0m\u001b[0m\n\u001b[0m\u001b[1;32m    858\u001b[0m     \u001b[0;32melif\u001b[0m \u001b[0mself\u001b[0m\u001b[0;34m.\u001b[0m\u001b[0m_variable_creation_fn\u001b[0m \u001b[0;32mis\u001b[0m \u001b[0;32mnot\u001b[0m \u001b[0;32mNone\u001b[0m\u001b[0;34m:\u001b[0m\u001b[0;34m\u001b[0m\u001b[0;34m\u001b[0m\u001b[0m\n\u001b[1;32m    859\u001b[0m       \u001b[0;31m# Release the lock early so that multiple threads can perform the call\u001b[0m\u001b[0;34m\u001b[0m\u001b[0;34m\u001b[0m\u001b[0m\n",
            "\u001b[0;32m/usr/local/lib/python3.10/dist-packages/tensorflow/python/eager/polymorphic_function/tracing_compiler.py\u001b[0m in \u001b[0;36m__call__\u001b[0;34m(self, *args, **kwargs)\u001b[0m\n\u001b[1;32m    146\u001b[0m       (concrete_function,\n\u001b[1;32m    147\u001b[0m        filtered_flat_args) = self._maybe_define_function(args, kwargs)\n\u001b[0;32m--> 148\u001b[0;31m     return concrete_function._call_flat(\n\u001b[0m\u001b[1;32m    149\u001b[0m         filtered_flat_args, captured_inputs=concrete_function.captured_inputs)  # pylint: disable=protected-access\n\u001b[1;32m    150\u001b[0m \u001b[0;34m\u001b[0m\u001b[0m\n",
            "\u001b[0;32m/usr/local/lib/python3.10/dist-packages/tensorflow/python/eager/polymorphic_function/monomorphic_function.py\u001b[0m in \u001b[0;36m_call_flat\u001b[0;34m(self, args, captured_inputs)\u001b[0m\n\u001b[1;32m   1347\u001b[0m         and executing_eagerly):\n\u001b[1;32m   1348\u001b[0m       \u001b[0;31m# No tape is watching; skip to running the function.\u001b[0m\u001b[0;34m\u001b[0m\u001b[0;34m\u001b[0m\u001b[0m\n\u001b[0;32m-> 1349\u001b[0;31m       \u001b[0;32mreturn\u001b[0m \u001b[0mself\u001b[0m\u001b[0;34m.\u001b[0m\u001b[0m_build_call_outputs\u001b[0m\u001b[0;34m(\u001b[0m\u001b[0mself\u001b[0m\u001b[0;34m.\u001b[0m\u001b[0m_inference_function\u001b[0m\u001b[0;34m(\u001b[0m\u001b[0;34m*\u001b[0m\u001b[0margs\u001b[0m\u001b[0;34m)\u001b[0m\u001b[0;34m)\u001b[0m\u001b[0;34m\u001b[0m\u001b[0;34m\u001b[0m\u001b[0m\n\u001b[0m\u001b[1;32m   1350\u001b[0m     forward_backward = self._select_forward_and_backward_functions(\n\u001b[1;32m   1351\u001b[0m         \u001b[0margs\u001b[0m\u001b[0;34m,\u001b[0m\u001b[0;34m\u001b[0m\u001b[0;34m\u001b[0m\u001b[0m\n",
            "\u001b[0;32m/usr/local/lib/python3.10/dist-packages/tensorflow/python/eager/polymorphic_function/atomic_function.py\u001b[0m in \u001b[0;36m__call__\u001b[0;34m(self, *args)\u001b[0m\n\u001b[1;32m    194\u001b[0m         \u001b[0;32mwith\u001b[0m \u001b[0mrecord\u001b[0m\u001b[0;34m.\u001b[0m\u001b[0mstop_recording\u001b[0m\u001b[0;34m(\u001b[0m\u001b[0;34m)\u001b[0m\u001b[0;34m:\u001b[0m\u001b[0;34m\u001b[0m\u001b[0;34m\u001b[0m\u001b[0m\n\u001b[1;32m    195\u001b[0m           \u001b[0;32mif\u001b[0m \u001b[0mself\u001b[0m\u001b[0;34m.\u001b[0m\u001b[0m_bound_context\u001b[0m\u001b[0;34m.\u001b[0m\u001b[0mexecuting_eagerly\u001b[0m\u001b[0;34m(\u001b[0m\u001b[0;34m)\u001b[0m\u001b[0;34m:\u001b[0m\u001b[0;34m\u001b[0m\u001b[0;34m\u001b[0m\u001b[0m\n\u001b[0;32m--> 196\u001b[0;31m             outputs = self._bound_context.call_function(\n\u001b[0m\u001b[1;32m    197\u001b[0m                 \u001b[0mself\u001b[0m\u001b[0;34m.\u001b[0m\u001b[0mname\u001b[0m\u001b[0;34m,\u001b[0m\u001b[0;34m\u001b[0m\u001b[0;34m\u001b[0m\u001b[0m\n\u001b[1;32m    198\u001b[0m                 \u001b[0mlist\u001b[0m\u001b[0;34m(\u001b[0m\u001b[0margs\u001b[0m\u001b[0;34m)\u001b[0m\u001b[0;34m,\u001b[0m\u001b[0;34m\u001b[0m\u001b[0;34m\u001b[0m\u001b[0m\n",
            "\u001b[0;32m/usr/local/lib/python3.10/dist-packages/tensorflow/python/eager/context.py\u001b[0m in \u001b[0;36mcall_function\u001b[0;34m(self, name, tensor_inputs, num_outputs)\u001b[0m\n\u001b[1;32m   1455\u001b[0m     \u001b[0mcancellation_context\u001b[0m \u001b[0;34m=\u001b[0m \u001b[0mcancellation\u001b[0m\u001b[0;34m.\u001b[0m\u001b[0mcontext\u001b[0m\u001b[0;34m(\u001b[0m\u001b[0;34m)\u001b[0m\u001b[0;34m\u001b[0m\u001b[0;34m\u001b[0m\u001b[0m\n\u001b[1;32m   1456\u001b[0m     \u001b[0;32mif\u001b[0m \u001b[0mcancellation_context\u001b[0m \u001b[0;32mis\u001b[0m \u001b[0;32mNone\u001b[0m\u001b[0;34m:\u001b[0m\u001b[0;34m\u001b[0m\u001b[0;34m\u001b[0m\u001b[0m\n\u001b[0;32m-> 1457\u001b[0;31m       outputs = execute.execute(\n\u001b[0m\u001b[1;32m   1458\u001b[0m           \u001b[0mname\u001b[0m\u001b[0;34m.\u001b[0m\u001b[0mdecode\u001b[0m\u001b[0;34m(\u001b[0m\u001b[0;34m\"utf-8\"\u001b[0m\u001b[0;34m)\u001b[0m\u001b[0;34m,\u001b[0m\u001b[0;34m\u001b[0m\u001b[0;34m\u001b[0m\u001b[0m\n\u001b[1;32m   1459\u001b[0m           \u001b[0mnum_outputs\u001b[0m\u001b[0;34m=\u001b[0m\u001b[0mnum_outputs\u001b[0m\u001b[0;34m,\u001b[0m\u001b[0;34m\u001b[0m\u001b[0;34m\u001b[0m\u001b[0m\n",
            "\u001b[0;32m/usr/local/lib/python3.10/dist-packages/tensorflow/python/eager/execute.py\u001b[0m in \u001b[0;36mquick_execute\u001b[0;34m(op_name, num_outputs, inputs, attrs, ctx, name)\u001b[0m\n\u001b[1;32m     51\u001b[0m   \u001b[0;32mtry\u001b[0m\u001b[0;34m:\u001b[0m\u001b[0;34m\u001b[0m\u001b[0;34m\u001b[0m\u001b[0m\n\u001b[1;32m     52\u001b[0m     \u001b[0mctx\u001b[0m\u001b[0;34m.\u001b[0m\u001b[0mensure_initialized\u001b[0m\u001b[0;34m(\u001b[0m\u001b[0;34m)\u001b[0m\u001b[0;34m\u001b[0m\u001b[0;34m\u001b[0m\u001b[0m\n\u001b[0;32m---> 53\u001b[0;31m     tensors = pywrap_tfe.TFE_Py_Execute(ctx._handle, device_name, op_name,\n\u001b[0m\u001b[1;32m     54\u001b[0m                                         inputs, attrs, num_outputs)\n\u001b[1;32m     55\u001b[0m   \u001b[0;32mexcept\u001b[0m \u001b[0mcore\u001b[0m\u001b[0;34m.\u001b[0m\u001b[0m_NotOkStatusException\u001b[0m \u001b[0;32mas\u001b[0m \u001b[0me\u001b[0m\u001b[0;34m:\u001b[0m\u001b[0;34m\u001b[0m\u001b[0;34m\u001b[0m\u001b[0m\n",
            "\u001b[0;31mKeyboardInterrupt\u001b[0m: "
          ]
        }
      ]
    },
    {
      "cell_type": "code",
      "source": [
        "from sklearn.preprocessing import MinMaxScaler\n",
        "from tensorflow.keras.models import Sequential\n",
        "from tensorflow.keras.layers import LSTM, Dense\n",
        "from tensorflow.keras.optimizers import Adam\n",
        "\n",
        "# 데이터 병합\n",
        "#combined_data2 = pd.concat([ECG_child_age_train, ECG_adult_age_train], ignore_index=True)\n",
        "\n",
        "# 'ECG_SIGNAL' 열의 넘파이 배열로 변환\n",
        "#combined_data2['ECG_SIGNAL'] = combined_data2['ECG_SIGNAL'].apply(eval)\n",
        "\n",
        "# 'AGE' 컬럼의 결측값을 0으로 채우기 (또는 원하는 처리 방법으로 대체)\n",
        "combined_data2['AGE'].fillna(0, inplace=True)\n",
        "\n",
        "# 'ECG_SIGNAL' 데이터 정규화\n",
        "scaler = MinMaxScaler()\n",
        "combined_data2['ECG_SIGNAL'] = combined_data2['ECG_SIGNAL'].apply(lambda x: scaler.fit_transform(np.array(x).reshape(-1, 1)))\n",
        "\n",
        "# 시계열 데이터를 학습 가능한 형태로 변환\n",
        "X = np.array(combined_data2['ECG_SIGNAL'].tolist())\n",
        "y = combined_data2['AGE'].values\n",
        "\n",
        "# LSTM 모델 정의\n",
        "model = Sequential()\n",
        "model.add(LSTM(50, activation='relu', input_shape=(X.shape[1], X.shape[2])))\n",
        "model.add(Dense(1))\n",
        "\n",
        "# 모델 컴파일\n",
        "model.compile(optimizer=Adam(learning_rate=0.001), loss='mean_squared_error')\n",
        "\n",
        "# LSTM 모델 학습\n",
        "model.fit(X, y, epochs=10, batch_size=32)\n",
        "\n",
        "# 모델 저장\n",
        "model.save(\"/content/gdrive/MyDrive/MAIC2023_공모전/my_model_adult.h5\")"
      ],
      "metadata": {
        "colab": {
          "base_uri": "https://localhost:8080/"
        },
        "id": "glCvhDmTK2aU",
        "outputId": "ea1eddcb-46b5-4e59-bbbf-4b565a3d2536"
      },
      "execution_count": null,
      "outputs": [
        {
          "output_type": "stream",
          "name": "stderr",
          "text": [
            "WARNING:tensorflow:Layer lstm will not use cuDNN kernels since it doesn't meet the criteria. It will use a generic GPU kernel as fallback when running on GPU.\n"
          ]
        },
        {
          "output_type": "stream",
          "name": "stdout",
          "text": [
            "Epoch 1/10\n",
            "  9/109 [=>............................] - ETA: 34:41 - loss: 3911.0947"
          ]
        }
      ]
    },
    {
      "cell_type": "code",
      "source": [
        "# combined_valid 데이터의 'ECG_SIGNAL' 열을 넘파이 배열로 변환\n",
        "#combined_valid['ECG_SIGNAL'] = combined_valid['ECG_SIGNAL'].apply(eval)\n",
        "\n",
        "# combined_valid 데이터의 'ECG_SIGNAL' 데이터 정규화\n",
        "combined_valid['ECG_SIGNAL'] = combined_valid['ECG_SIGNAL'].apply(lambda x: scaler.fit_transform(np.array(x).reshape(-1, 1)))\n",
        "\n",
        "# combined_valid 데이터를 시계열 데이터로 변환\n",
        "X_submission = np.array(combined_valid['ECG_SIGNAL'].tolist())\n",
        "\n",
        "# AGE 예측\n",
        "predicted_age = model.predict(X_submission)\n",
        "\n",
        "# 예측 결과를 'AGE' 컬럼에 채우기\n",
        "combined_valid['AGE'] = predicted_age\n",
        "\n",
        "# 결과 저장\n",
        "combined_valid.to_csv('/content/gdrive/MyDrive/MAIC2023_공모전/submission_with_age.csv', index=False)"
      ],
      "metadata": {
        "id": "7tqyLhaZXJ3P"
      },
      "execution_count": null,
      "outputs": []
    }
  ]
}